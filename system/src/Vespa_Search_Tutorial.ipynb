{
 "cells": [
  {
   "cell_type": "markdown",
   "id": "2f8fe295",
   "metadata": {
    "pycharm": {
     "name": "#%% md\n"
    }
   },
   "source": [
    "# Tutorial - Development of a Vespa-based Search Engine Ver. 1.0.2\n",
    "\n",
    "This tutorial will walk you through major steps for creating a local search engine based on Vespa. An overview is diagramed below that includes:\n",
    "- Creating a search engine (Vespa) application in Docker,\n",
    "- Deploying schema that specify the data structure,\n",
    "- Processing raw data for ingestion,\n",
    "- Feeding data into the search engine,\n",
    "- Querying the search engine and retrieving results. \n",
    "\n",
    "<figure>\n",
    "    <img src=\"../../resources/pic/vespa_search_tutorial.png\" width=700 alt='Tutorial Overview' />\n",
    "</figure>\n",
    "\n",
    "Before the tutorial, please:\n",
    "- Unzip sample_data.zip,\n",
    "- Turn on your Docker desktop,\n",
    "- Install the required packages below (<strong>NOTE: You may want to disconnect from the UHG VPN to speed up docker image download</strong>)."
   ]
  },
  {
   "cell_type": "code",
   "execution_count": null,
   "id": "0069a8fa",
   "metadata": {
    "pycharm": {
     "name": "#%%\n"
    }
   },
   "outputs": [],
   "source": [
    "!pip install -r ../../requirements.txt\n",
    "print('done')"
   ]
  },
  {
   "cell_type": "markdown",
   "id": "b101a5dd",
   "metadata": {
    "pycharm": {
     "name": "#%% md\n"
    }
   },
   "source": [
    "### 1. Search engine creation & deployment\n",
    "\n",
    "This section demonstrates how to create a Vespa application in Docker and deploy two schema to the application. The search engine configuration files are provided [here](../../resources/application/). Example schema are providered [here](../../resources/application/schemas/). "
   ]
  },
  {
   "cell_type": "code",
   "execution_count": 1,
   "id": "ea8ad024",
   "metadata": {
    "pycharm": {
     "name": "#%%\n"
    }
   },
   "outputs": [
    {
     "data": {
      "text/plain": "<IPython.core.display.Markdown object>",
      "text/markdown": "**Import required package and configurations...**"
     },
     "metadata": {},
     "output_type": "display_data"
    },
    {
     "name": "stderr",
     "output_type": "stream",
     "text": [
      "/Users/fmordel2/Documents/GitHub/us-res-tutorial-search/venv/lib/python3.9/site-packages/urllib3/__init__.py:34: NotOpenSSLWarning: urllib3 v2.0 only supports OpenSSL 1.1.1+, currently the 'ssl' module is compiled with 'LibreSSL 2.8.3'. See: https://github.com/urllib3/urllib3/issues/3020\n",
      "  warnings.warn(\n"
     ]
    }
   ],
   "source": [
    "from IPython.display import Markdown, display\n",
    "\n",
    "def printbold(text):\n",
    "    display(Markdown(\"**\"+text+\"**\"))\n",
    "\n",
    "printbold(\"Import required package and configurations...\")\n",
    "import io, sys, os, json, urllib, datetime, warnings, time\n",
    "from vespa.deployment import VespaDocker\n",
    "from vespa.application import Vespa\n",
    "import pandas as pd\n",
    "\n",
    "#supress pandas chain assignment warning\n",
    "pd.options.mode.chained_assignment = None  # default='warn'"
   ]
  },
  {
   "cell_type": "code",
   "execution_count": 2,
   "outputs": [],
   "source": [
    "sys.path.append(os.path.dirname(\"../\"))\n",
    "from src import constant as settings\n",
    "from src.ingestion import provider_data_extraction, provider_data_feed\n",
    "from src.evaluation import query_generation, performance_test"
   ],
   "metadata": {
    "collapsed": false,
    "pycharm": {
     "name": "#%%\n"
    }
   }
  },
  {
   "cell_type": "code",
   "execution_count": 3,
   "outputs": [],
   "source": [
    "def get_vespa_results(vespa_app, query):\n",
    "    \"\"\"\n",
    "    function to get and display vespa results\n",
    "    \"\"\"\n",
    "    stime = time.time()\n",
    "    return_response = vespa_app.query(body=query)\n",
    "    results = return_response.hits\n",
    "    etime = time.time()\n",
    "\n",
    "    #show query and results\n",
    "    printbold(\"Query (url):\")\n",
    "    print(return_response.url+\"?\"+urllib.parse.urlencode(query))\n",
    "    printbold(\"Response time:\")\n",
    "    print(\"{:.2f} ms\".format(1000*(etime-stime)))\n",
    "    printbold(\"Search time:\")\n",
    "    print(\"{:.2f} ms\".format(1000*return_response.json.get('timing').get('searchtime')))\n",
    "    printbold(\"Total records:\")\n",
    "    print(return_response.json.get('root').get('coverage').get('documents'))\n",
    "    printbold(\"Total matched results:\")\n",
    "    print(return_response.json.get('root').get('fields').get('totalCount'))\n",
    "    printbold(\"Top results:\")\n",
    "    print(json.dumps(results, indent=2))"
   ],
   "metadata": {
    "collapsed": false,
    "pycharm": {
     "name": "#%%\n"
    }
   }
  },
  {
   "cell_type": "code",
   "execution_count": 4,
   "id": "21460af2",
   "metadata": {
    "pycharm": {
     "name": "#%%\n"
    }
   },
   "outputs": [
    {
     "data": {
      "text/plain": "<IPython.core.display.Markdown object>",
      "text/markdown": "**Deploy the vespa application from local config files...**"
     },
     "metadata": {},
     "output_type": "display_data"
    },
    {
     "name": "stdout",
     "output_type": "stream",
     "text": [
      "Waiting for configuration server, 0/300 seconds...\n",
      "Waiting for configuration server, 5/300 seconds...\n",
      "Waiting for configuration server, 10/300 seconds...\n",
      "Waiting for application status, 0/300 seconds...\n",
      "Waiting for application status, 5/300 seconds...\n",
      "Waiting for application status, 10/300 seconds...\n",
      "Waiting for application status, 15/300 seconds...\n",
      "Waiting for application status, 20/300 seconds...\n",
      "Waiting for application status, 25/300 seconds...\n",
      "Finished deployment.\n"
     ]
    },
    {
     "data": {
      "text/plain": "<IPython.core.display.Markdown object>",
      "text/markdown": "**Check if vespa application is up...**"
     },
     "metadata": {},
     "output_type": "display_data"
    },
    {
     "name": "stdout",
     "output_type": "stream",
     "text": [
      "True\n",
      "done\n"
     ]
    }
   ],
   "source": [
    "printbold(\"Deploy the vespa application from local config files...\")\n",
    "app_name = settings.app_name\n",
    "# config_dir = settings.config_dir\n",
    "config_dir = \"/Users/fmordel2/Documents/GitHub/us-res-tutorial-search/resources/application\"\n",
    "\n",
    "vespa_docker = VespaDocker()\n",
    "vespa_app = vespa_docker.deploy_from_disk(application_name = app_name,\n",
    "                                            application_root = config_dir)\n",
    "\n",
    "printbold(\"Check if vespa application is up...\")\n",
    "print(vespa_app.get_application_status().ok)\n",
    "print('done')"
   ]
  },
  {
   "cell_type": "markdown",
   "id": "a07db30d",
   "metadata": {
    "pycharm": {
     "name": "#%% md\n"
    }
   },
   "source": [
    "After deployment, you can check if the application is up and running at http://localhost:19071/ApplicationStatus (configuration server) and http://localhost:8080/status.html (content server). If you would like to check what is happning in the application, use `docker exec -it --user root tutorialvespa /bin/bash`. You will find the schemas you deployed at `/opt/vespa/var/db/vespa/config_server/serverdb/tenants/default/sessions/2/schemas`.\n",
    "\n",
    "<strong>Potential causes if you encounter errors during Vespa deployment:</strong>\n",
    "- You are running another container that uses the same port(s) (500 Server error),\n",
    "- You have an issue with pulling the Vespa docker image. Please try `docker pull docker.repo1.uhc.com/vespaengine/vespa`."
   ]
  },
  {
   "cell_type": "markdown",
   "id": "0c06a3ed",
   "metadata": {
    "pycharm": {
     "name": "#%% md\n"
    }
   },
   "source": [
    "### 2. Data processing & information extraction\n",
    "\n",
    "One key process before feeding data into a search engine is data processing and information extraction. This section demonstrates a simple pipeline to \n",
    "- clean raw data (e.g., removing expired records), \n",
    "- extract information (e.g., extracting required data fields), and \n",
    "- save data in the format specified by the schema. \n",
    "\n",
    "The pipeline is described [here](./ingestion/provider_data_extraction.py)."
   ]
  },
  {
   "cell_type": "code",
   "execution_count": 5,
   "id": "476a0b40",
   "metadata": {
    "pycharm": {
     "name": "#%%\n"
    }
   },
   "outputs": [
    {
     "data": {
      "text/plain": "<IPython.core.display.Markdown object>",
      "text/markdown": "**Perform data processing & information extraction...**"
     },
     "metadata": {},
     "output_type": "display_data"
    },
    {
     "name": "stdout",
     "output_type": "stream",
     "text": [
      "Process file: ../../data/organization_sample_data.json\n",
      "\n",
      "Void record during process: providerData (ignore this document 7055809-420680448-T-855151-L).\n",
      "Have processed 1000 records.\n",
      "Void record during process: providerData (ignore this document 7690140-832558614-T-3045912-D).\n",
      "Have processed 2000 records.\n",
      "Void record during process: providerData (ignore this document 7617794-320452611-T-3267557-L).\n",
      "Have processed 3000 records.\n",
      "Void record during process: providerData (ignore this document 7422788-541077240-T-3064459-L).\n",
      "Have processed 4000 records.\n",
      "Processed a total of 4046 records.\n",
      "Data frame shape: (4042, 22)\n",
      "\n",
      "Save data frame.\n",
      "\n",
      "-----------------\n",
      "Process file: ../../data/practitioner_sample_data.json\n",
      "\n",
      "Have processed 1000 records.\n",
      "Have processed 2000 records.\n",
      "Have processed 3000 records.\n",
      "Have processed 4000 records.\n",
      "Void record during process: providerData (ignore this document 7431749-462799683-T-2924831-H).\n",
      "Have processed 5000 records.\n",
      "Void record during process: providerData (ignore this document 7419723-61681057-T-1600174-H).\n",
      "Have processed 6000 records.\n",
      "Have processed 7000 records.\n",
      "Have processed 8000 records.\n",
      "Have processed 9000 records.\n",
      "Void record during process: providerData (ignore this document 7053649-823481322-T-2452948-L).\n",
      "Have processed 10000 records.\n",
      "Have processed 11000 records.\n",
      "Have processed 12000 records.\n",
      "Have processed 13000 records.\n",
      "Have processed 14000 records.\n",
      "Have processed 15000 records.\n",
      "Have processed 16000 records.\n",
      "Have processed 17000 records.\n",
      "Have processed 18000 records.\n",
      "Have processed 19000 records.\n",
      "Processed a total of 19561 records.\n",
      "Data frame shape: (19558, 22)\n",
      "\n",
      "Save data frame.\n",
      "\n",
      "-----------------\n",
      "Execution time: 175.20163202285767 secs.\n",
      "done\n"
     ]
    }
   ],
   "source": [
    "printbold(\"Perform data processing & information extraction...\")\n",
    "provider_data_extraction.main_process(settings)\n",
    "print(\"done\")"
   ]
  },
  {
   "cell_type": "markdown",
   "id": "ccae55f8",
   "metadata": {
    "pycharm": {
     "name": "#%% md\n"
    }
   },
   "source": [
    "#### 2.1 Exploratory data analysis & inspection\n",
    "In most cases real-world data are noisy and require (manual) inspection to avoid garbage-in-garbage-out problems. In general, exploratory data analysis (not done in this tutorial) will be performed before schema design and data processing to identify data issues and inform solutions. Another data inspection will be performed before data ingestion to clear issues such as null values, invalid records, and incompatible formats.  \n",
    "\n",
    "This section demonstrates one data inspection example. "
   ]
  },
  {
   "cell_type": "code",
   "execution_count": 8,
   "id": "a98e19a2",
   "metadata": {
    "pycharm": {
     "name": "#%%\n"
    }
   },
   "outputs": [
    {
     "data": {
      "text/plain": "<IPython.core.display.Markdown object>",
      "text/markdown": "**Load processed data and performed data inspection...**"
     },
     "metadata": {},
     "output_type": "display_data"
    },
    {
     "name": "stdout",
     "output_type": "stream",
     "text": [
      "  enterprise_provider_id                  generated_key  doc_expire_date  \\\n",
      "0                2376287  2376287-351520388-T-1635227-L     253402214400   \n",
      "1                3260346   3260346-273899821-T-268376-L     253402214400   \n",
      "2                3691691  3691691-830344890-T-2372076-L     253402214400   \n",
      "3                 822935      822935-61064225-T-94898-D     253402214400   \n",
      "4                 237359   237359-232450112-T-3228242-H       1631487600   \n",
      "\n",
      "  first_name middle_name last_name                          org_name  \\\n",
      "0                                              chiropractic wellness   \n",
      "1                                                 st josephs medical   \n",
      "2                                     michigan pathology specialists   \n",
      "3                                               faire harbour ob/gyn   \n",
      "4                                   planned parenthood of lehigh vly   \n",
      "\n",
      "  prov_type_code organization_type_code  address_id  ... county_name  \\\n",
      "0              o                    033     1635227  ...     spencer   \n",
      "1              o                    033      268376  ...      oswego   \n",
      "2              o                    033     2372076  ...        kent   \n",
      "3              o                    033       94898  ...  new london   \n",
      "4              o                    033     3228242  ...       bucks   \n",
      "\n",
      "  state_code zipcode                                geocode  \\\n",
      "0         in   47579  {'lat': 38.118435, 'lng': -86.924362}   \n",
      "1         ny   13126  {'lat': 43.454699, 'lng': -76.516513}   \n",
      "2         mi   49503  {'lat': 42.970664, 'lng': -85.666349}   \n",
      "3         ct   06320    {'lat': 41.336561, 'lng': -72.1034}   \n",
      "4         pa   18974  {'lat': 40.207433, 'lng': -75.080219}   \n",
      "\n",
      "                                        csp_contract  \\\n",
      "0                                                 {}   \n",
      "1  {'624': 99991231, '620': 99991231, '626': 9999...   \n",
      "2                                  {'911': 99991231}   \n",
      "3                                                 {}   \n",
      "4                                                 {}   \n",
      "\n",
      "                                   national_taxonomy  \\\n",
      "0                                                 {}   \n",
      "1  {'207r00000x': 99991231, '207p00000x': 9999123...   \n",
      "2                           {'207zp0102x': 99991231}   \n",
      "3                           {'207v00000x': 99991231}   \n",
      "4                                                 {}   \n",
      "\n",
      "                                     cosmos_contract  \\\n",
      "0                                                 {}   \n",
      "1  {'evc-7': 99991231, 'mnr-135': 99991231, 'mnr-...   \n",
      "2                                                 {}   \n",
      "3                                                 {}   \n",
      "4                                                 {}   \n",
      "\n",
      "                                       unet_contract  \\\n",
      "0                                                 {}   \n",
      "1  {'31536-ef-o': 99991231, '31536-ec-o': 9999123...   \n",
      "2  {'8444444-aa-': 99991231, '21613-s1-o': 999912...   \n",
      "3                             {'6445-p3-': 99991231}   \n",
      "4                                                 {}   \n",
      "\n",
      "                                       specialty_org           contract_org  \n",
      "0                            {'035-uhn-p': 99991231}  {'uhn-p-p': 99991231}  \n",
      "1  {'042-uhn-s': 99991231, '002-uhn-s': 99991231,...  {'uhn-s-s': 99991231}  \n",
      "2                            {'022-uhn-p': 99991231}  {'uhn-s-s': 99991231}  \n",
      "3                            {'230-uhn-p': 99991231}  {'uhn-s-s': 99991231}  \n",
      "4                                                 {}                     {}  \n",
      "\n",
      "[5 rows x 22 columns]\n",
      "Index(['enterprise_provider_id', 'generated_key', 'doc_expire_date',\n",
      "       'first_name', 'middle_name', 'last_name', 'org_name', 'prov_type_code',\n",
      "       'organization_type_code', 'address_id', 'address_line', 'city_name',\n",
      "       'county_name', 'state_code', 'zipcode', 'geocode', 'csp_contract',\n",
      "       'national_taxonomy', 'cosmos_contract', 'unet_contract',\n",
      "       'specialty_org', 'contract_org'],\n",
      "      dtype='object')\n",
      " doc_expire_date\n",
      "    253402214400\n",
      "    253402214400\n",
      "    253402214400\n",
      "    253402214400\n",
      "      1631487600\n",
      "    253402214400\n",
      "    253402214400\n",
      "    253402214400\n",
      "    253402214400\n",
      "    253402214400\n",
      "---------------------------------\n",
      " doc_expire_date doc_expire_date_dttm\n",
      "    253402214400  9999-12-31 00:00:00\n",
      "    253402214400  9999-12-31 00:00:00\n",
      "    253402214400  9999-12-31 00:00:00\n",
      "    253402214400  9999-12-31 00:00:00\n",
      "      1631487600  2021-09-13 00:00:00\n",
      "    253402214400  9999-12-31 00:00:00\n",
      "    253402214400  9999-12-31 00:00:00\n",
      "    253402214400  9999-12-31 00:00:00\n",
      "    253402214400  9999-12-31 00:00:00\n",
      "    253402214400  9999-12-31 00:00:00\n",
      "---------------------------------\n",
      "Number of expired records: 117 (2.89%)\n",
      "---------------------------------\n",
      "done\n"
     ]
    }
   ],
   "source": [
    "printbold(\"Load processed data and performed data inspection...\")\n",
    "data_file = settings.local_indir + settings.all_outfiles[0] #0. organization data, 1. practitioner data\n",
    "df = pd.read_pickle(data_file)\n",
    "\n",
    "#data overview\n",
    "print(df.head())\n",
    "print(df.columns)\n",
    "\n",
    "#data inspection example\n",
    "temp_df = df[['doc_expire_date']] #doc_expire_date stores record expire date\n",
    "print(temp_df.head(10).to_string(index=False))\n",
    "print(\"---------------------------------\")\n",
    "\n",
    "temp_df['doc_expire_date_dttm'] = [datetime.datetime.fromtimestamp(x) for x in temp_df['doc_expire_date']]\n",
    "print(temp_df.head(10).to_string(index=False))\n",
    "print(\"---------------------------------\")\n",
    "\n",
    "num_expired_records = sum(temp_df['doc_expire_date_dttm'] < datetime.datetime.strptime('2023-01-01','%Y-%m-%d'))\n",
    "print(\"Number of expired records: {} ({:.2f}%)\".format(num_expired_records, 100*num_expired_records/(len(temp_df))))\n",
    "print(\"---------------------------------\")\n",
    "print('done')"
   ]
  },
  {
   "cell_type": "markdown",
   "id": "5756de62",
   "metadata": {
    "pycharm": {
     "name": "#%% md\n"
    }
   },
   "source": [
    "### 3. Data ingestion\n",
    "This section demonstrates how to feed data into the search engine application. The vespa application supports point-by-point ingestion or batch ingestion from a dictionary list or a pandas data frame. You can also feed data using curl put actions.\n",
    "\n",
    "The data ingestion pipeline is described [here](./ingestion/provider_data_feed.py)."
   ]
  },
  {
   "cell_type": "code",
   "execution_count": 9,
   "id": "abbf1b28",
   "metadata": {
    "scrolled": false,
    "pycharm": {
     "name": "#%%\n"
    }
   },
   "outputs": [
    {
     "data": {
      "text/plain": "<IPython.core.display.Markdown object>",
      "text/markdown": "**Perform data ingestion...**"
     },
     "metadata": {},
     "output_type": "display_data"
    },
    {
     "name": "stdout",
     "output_type": "stream",
     "text": [
      "Feed data from file: ../../data/organization_sample_data.pkl\n",
      "Successful documents fed: 1000/1000.\n",
      "Batch progress: 1/5.\n",
      "Successful documents fed: 1000/1000.\n",
      "Batch progress: 2/5.\n",
      "Successful documents fed: 1000/1000.\n",
      "Batch progress: 3/5.\n",
      "Successful documents fed: 1000/1000.\n",
      "Batch progress: 4/5.\n",
      "Successful documents fed: 42/42.\n",
      "Batch progress: 5/5.\n",
      "File process time: 20.400991201400757 secs.\n",
      "Execution time: 20.402027130126953 secs.\n",
      "Feed data from file: ../../data/practitioner_sample_data.pkl\n",
      "Successful documents fed: 1000/1000.\n",
      "Batch progress: 1/20.\n",
      "Successful documents fed: 1000/1000.\n",
      "Batch progress: 2/20.\n",
      "Successful documents fed: 1000/1000.\n",
      "Batch progress: 3/20.\n",
      "Successful documents fed: 1000/1000.\n",
      "Batch progress: 4/20.\n",
      "Successful documents fed: 1000/1000.\n",
      "Batch progress: 5/20.\n",
      "Successful documents fed: 1000/1000.\n",
      "Batch progress: 6/20.\n",
      "Successful documents fed: 1000/1000.\n",
      "Batch progress: 7/20.\n",
      "Successful documents fed: 1000/1000.\n",
      "Batch progress: 8/20.\n",
      "Successful documents fed: 1000/1000.\n",
      "Batch progress: 9/20.\n",
      "Successful documents fed: 1000/1000.\n",
      "Batch progress: 10/20.\n",
      "Successful documents fed: 1000/1000.\n",
      "Batch progress: 11/20.\n",
      "Successful documents fed: 1000/1000.\n",
      "Batch progress: 12/20.\n",
      "Successful documents fed: 1000/1000.\n",
      "Batch progress: 13/20.\n",
      "Successful documents fed: 1000/1000.\n",
      "Batch progress: 14/20.\n",
      "Successful documents fed: 1000/1000.\n",
      "Batch progress: 15/20.\n",
      "Successful documents fed: 1000/1000.\n",
      "Batch progress: 16/20.\n",
      "Successful documents fed: 1000/1000.\n",
      "Batch progress: 17/20.\n",
      "Successful documents fed: 1000/1000.\n",
      "Batch progress: 18/20.\n",
      "Successful documents fed: 1000/1000.\n",
      "Batch progress: 19/20.\n",
      "Successful documents fed: 558/558.\n",
      "Batch progress: 20/20.\n",
      "File process time: 86.90553689002991 secs.\n",
      "Execution time: 86.90556907653809 secs.\n",
      "done\n"
     ]
    }
   ],
   "source": [
    "printbold(\"Perform data ingestion...\")\n",
    "\n",
    "#feed organization data\n",
    "settings.schema_name = 'organization'\n",
    "provider_data_feed.main_process(settings)\n",
    "\n",
    "#feed practitioner data\n",
    "settings.schema_name = 'practitioner'\n",
    "provider_data_feed.main_process(settings)\n",
    "print(\"done\")"
   ]
  },
  {
   "cell_type": "code",
   "execution_count": 10,
   "id": "f17521c1",
   "metadata": {
    "scrolled": true,
    "pycharm": {
     "name": "#%%\n"
    }
   },
   "outputs": [
    {
     "data": {
      "text/plain": "<IPython.core.display.Markdown object>",
      "text/markdown": "**Data ingestion inspection for schema organization...**"
     },
     "metadata": {},
     "output_type": "display_data"
    },
    {
     "data": {
      "text/plain": "<IPython.core.display.Markdown object>",
      "text/markdown": "**Query (url):**"
     },
     "metadata": {},
     "output_type": "display_data"
    },
    {
     "name": "stdout",
     "output_type": "stream",
     "text": [
      "http://localhost:8080/search/?yql=select+%2A+from+sources+organization+where+true%3B&type=any&presentation.timing=True&hits=1\n"
     ]
    },
    {
     "data": {
      "text/plain": "<IPython.core.display.Markdown object>",
      "text/markdown": "**Response time:**"
     },
     "metadata": {},
     "output_type": "display_data"
    },
    {
     "name": "stdout",
     "output_type": "stream",
     "text": [
      "266.93 ms\n"
     ]
    },
    {
     "data": {
      "text/plain": "<IPython.core.display.Markdown object>",
      "text/markdown": "**Search time:**"
     },
     "metadata": {},
     "output_type": "display_data"
    },
    {
     "name": "stdout",
     "output_type": "stream",
     "text": [
      "120.00 ms\n"
     ]
    },
    {
     "data": {
      "text/plain": "<IPython.core.display.Markdown object>",
      "text/markdown": "**Total records:**"
     },
     "metadata": {},
     "output_type": "display_data"
    },
    {
     "name": "stdout",
     "output_type": "stream",
     "text": [
      "4042\n"
     ]
    },
    {
     "data": {
      "text/plain": "<IPython.core.display.Markdown object>",
      "text/markdown": "**Total matched results:**"
     },
     "metadata": {},
     "output_type": "display_data"
    },
    {
     "name": "stdout",
     "output_type": "stream",
     "text": [
      "4042\n"
     ]
    },
    {
     "data": {
      "text/plain": "<IPython.core.display.Markdown object>",
      "text/markdown": "**Top results:**"
     },
     "metadata": {},
     "output_type": "display_data"
    },
    {
     "name": "stdout",
     "output_type": "stream",
     "text": [
      "[\n",
      "  {\n",
      "    \"id\": \"id:organization:organization::3691691-830344890-T-2372076-L\",\n",
      "    \"relevance\": 0.0,\n",
      "    \"source\": \"provider_content\",\n",
      "    \"fields\": {\n",
      "      \"sddocname\": \"organization\",\n",
      "      \"documentid\": \"id:organization:organization::3691691-830344890-T-2372076-L\",\n",
      "      \"csp_contract\": {\n",
      "        \"911\": 99991231\n",
      "      },\n",
      "      \"unet_contract\": {\n",
      "        \"21613-lh-o\": 99991231,\n",
      "        \"21613-li-o\": 99991231,\n",
      "        \"21613-lg-o\": 99991231,\n",
      "        \"21613-p3-o\": 99991231,\n",
      "        \"21613-c0-o\": 99991231,\n",
      "        \"21613-c2-o\": 99991231,\n",
      "        \"21613-c1-o\": 99991231,\n",
      "        \"21613-ea-o\": 99991231,\n",
      "        \"21613-eb-o\": 99991231,\n",
      "        \"21613-s7-o\": 99991231,\n",
      "        \"21613-s8-o\": 99991231,\n",
      "        \"21613-s9-o\": 99991231,\n",
      "        \"21613-ee-o\": 99991231,\n",
      "        \"21613-ef-o\": 99991231,\n",
      "        \"21613-ec-o\": 99991231,\n",
      "        \"21613-ed-o\": 99991231,\n",
      "        \"21613-ei-o\": 99991231,\n",
      "        \"210-e0-\": 99991231,\n",
      "        \"21613-eg-o\": 99991231,\n",
      "        \"21613-s0-o\": 99991231,\n",
      "        \"21613-eh-o\": 99991231,\n",
      "        \"21613-s1-o\": 99991231,\n",
      "        \"21613-s2-o\": 99991231,\n",
      "        \"8444444-aa-\": 99991231\n",
      "      },\n",
      "      \"specialty_org\": {\n",
      "        \"022-uhn-p\": 99991231\n",
      "      },\n",
      "      \"contract_org\": {\n",
      "        \"uhn-s-s\": 99991231\n",
      "      },\n",
      "      \"national_taxonomy\": {\n",
      "        \"207zp0102x\": 99991231\n",
      "      },\n",
      "      \"enterprise_provider_id\": \"3691691\",\n",
      "      \"generated_key\": \"3691691-830344890-T-2372076-L\",\n",
      "      \"doc_expire_date\": 253402214400,\n",
      "      \"org_name\": \"michigan pathology specialists\",\n",
      "      \"prov_type_code\": \"o\",\n",
      "      \"organization_type_code\": \"033\",\n",
      "      \"address_id\": 2372076,\n",
      "      \"address_line\": \"35 michigan st ne\",\n",
      "      \"city_name\": \"grand rapids\",\n",
      "      \"county_name\": \"kent\",\n",
      "      \"state_code\": \"mi\",\n",
      "      \"zipcode\": \"49503\",\n",
      "      \"geocode\": {\n",
      "        \"lat\": 42.970664,\n",
      "        \"lng\": -85.666349\n",
      "      }\n",
      "    }\n",
      "  }\n",
      "]\n"
     ]
    }
   ],
   "source": [
    "vespa_app = Vespa(url = settings.vespa_url_local) #connect to local host\n",
    "schema_name = \"organization\" #[\"organization\", \"practitioner\"]\n",
    "return_fields = \"*\"\n",
    "\n",
    "printbold(\"Data ingestion inspection for schema {}...\".format(schema_name))\n",
    "query = {\n",
    "    'yql': 'select {} from sources {} where true;'.format(return_fields, schema_name),\n",
    "    'type': 'any',\n",
    "    'presentation.timing': True,\n",
    "    'hits': \"1\"\n",
    "}\n",
    "\n",
    "#show query and results\n",
    "get_vespa_results(vespa_app, query)"
   ]
  },
  {
   "cell_type": "markdown",
   "id": "cd2b7623",
   "metadata": {
    "pycharm": {
     "name": "#%% md\n"
    }
   },
   "source": [
    "### 4. Query examples & performance test\n",
    "The search engine is ready to use after data ingestion. This section demonstrates query examples for testing the deployed application."
   ]
  },
  {
   "cell_type": "code",
   "execution_count": 11,
   "id": "9b948ede",
   "metadata": {
    "pycharm": {
     "name": "#%%\n"
    }
   },
   "outputs": [
    {
     "data": {
      "text/plain": "<IPython.core.display.Markdown object>",
      "text/markdown": "**Set global configurations...**"
     },
     "metadata": {},
     "output_type": "display_data"
    },
    {
     "name": "stdout",
     "output_type": "stream",
     "text": [
      "done\n"
     ]
    }
   ],
   "source": [
    "printbold(\"Set global configurations...\")\n",
    "settings.num_hit = 10 #number of returned results\n",
    "print('done')"
   ]
  },
  {
   "cell_type": "code",
   "execution_count": 12,
   "id": "ec2bafea",
   "metadata": {
    "scrolled": true,
    "pycharm": {
     "name": "#%%\n"
    }
   },
   "outputs": [
    {
     "data": {
      "text/plain": "<IPython.core.display.Markdown object>",
      "text/markdown": "**Query example 1: text matching for schema practitioner...**"
     },
     "metadata": {},
     "output_type": "display_data"
    },
    {
     "data": {
      "text/plain": "<IPython.core.display.Markdown object>",
      "text/markdown": "**Query (url):**"
     },
     "metadata": {},
     "output_type": "display_data"
    },
    {
     "name": "stdout",
     "output_type": "stream",
     "text": [
      "http://localhost:8080/search/?yql=select+%2A+from+sources+practitioner+where+userQuery%28%29%3B&query=john+smith&ranking=prov_bm25&type=any&presentation.timing=True&hits=10\n"
     ]
    },
    {
     "data": {
      "text/plain": "<IPython.core.display.Markdown object>",
      "text/markdown": "**Response time:**"
     },
     "metadata": {},
     "output_type": "display_data"
    },
    {
     "name": "stdout",
     "output_type": "stream",
     "text": [
      "144.76 ms\n"
     ]
    },
    {
     "data": {
      "text/plain": "<IPython.core.display.Markdown object>",
      "text/markdown": "**Search time:**"
     },
     "metadata": {},
     "output_type": "display_data"
    },
    {
     "name": "stdout",
     "output_type": "stream",
     "text": [
      "84.00 ms\n"
     ]
    },
    {
     "data": {
      "text/plain": "<IPython.core.display.Markdown object>",
      "text/markdown": "**Total records:**"
     },
     "metadata": {},
     "output_type": "display_data"
    },
    {
     "name": "stdout",
     "output_type": "stream",
     "text": [
      "19558\n"
     ]
    },
    {
     "data": {
      "text/plain": "<IPython.core.display.Markdown object>",
      "text/markdown": "**Total matched results:**"
     },
     "metadata": {},
     "output_type": "display_data"
    },
    {
     "name": "stdout",
     "output_type": "stream",
     "text": [
      "513\n"
     ]
    },
    {
     "data": {
      "text/plain": "<IPython.core.display.Markdown object>",
      "text/markdown": "**Top results:**"
     },
     "metadata": {},
     "output_type": "display_data"
    },
    {
     "name": "stdout",
     "output_type": "stream",
     "text": [
      "[\n",
      "  {\n",
      "    \"id\": \"id:practitioner:practitioner::1821838-752931720-T-1130898-L\",\n",
      "    \"relevance\": 15.71983775959675,\n",
      "    \"source\": \"provider_content\",\n",
      "    \"fields\": {\n",
      "      \"sddocname\": \"practitioner\",\n",
      "      \"documentid\": \"id:practitioner:practitioner::1821838-752931720-T-1130898-L\",\n",
      "      \"cosmos_contract\": {\n",
      "        \"pnx-709\": 99991231,\n",
      "        \"etx-709\": 99991231\n",
      "      },\n",
      "      \"csp_contract\": {\n",
      "        \"301\": 99991231,\n",
      "        \"302\": 99991231,\n",
      "        \"303\": 99991231,\n",
      "        \"304\": 99991231,\n",
      "        \"306\": 99991231,\n",
      "        \"307\": 99991231\n",
      "      },\n",
      "      \"unet_contract\": {\n",
      "        \"42580-r0-\": 99991231,\n",
      "        \"42580-s2-o\": 99991231,\n",
      "        \"42580-s1-o\": 99991231,\n",
      "        \"42580-s0-o\": 99991231,\n",
      "        \"42580-ec-o\": 99991231,\n",
      "        \"42580-sg-o\": 99991231,\n",
      "        \"42580-sh-o\": 99991231,\n",
      "        \"42580-ed-o\": 99991231,\n",
      "        \"42580-ea-o\": 99991231,\n",
      "        \"42580-si-o\": 99991231,\n",
      "        \"42580-eb-o\": 99991231,\n",
      "        \"420-d0-\": 99991231,\n",
      "        \"42580-c0-\": 99991231,\n",
      "        \"71009-rd-\": 99991231,\n",
      "        \"42580-p3-o\": 99991231,\n",
      "        \"71009-r0-\": 99991231,\n",
      "        \"42580-a3-o\": 99991231,\n",
      "        \"42580-lg-o\": 99991231,\n",
      "        \"42580-a2-o\": 99991231,\n",
      "        \"42580-a1-o\": 99991231,\n",
      "        \"42580-li-o\": 99991231,\n",
      "        \"42580-lh-o\": 99991231,\n",
      "        \"42580-ei-o\": 99991231,\n",
      "        \"42580-eg-o\": 99991231,\n",
      "        \"42580-c1-\": 99991231,\n",
      "        \"42580-eh-o\": 99991231,\n",
      "        \"42580-ee-o\": 99991231,\n",
      "        \"42580-ef-o\": 99991231,\n",
      "        \"42580-c0-o\": 99991231,\n",
      "        \"42580-c1-o\": 99991231,\n",
      "        \"42580-c2-o\": 99991231,\n",
      "        \"42580-s9-o\": 99991231,\n",
      "        \"42580-s8-o\": 99991231,\n",
      "        \"42580-s7-o\": 99991231\n",
      "      },\n",
      "      \"specialty_org\": {\n",
      "        \"032-uhn-p\": 99991231\n",
      "      },\n",
      "      \"contract_org\": {\n",
      "        \"uhn-p-p\": 99991231\n",
      "      },\n",
      "      \"national_taxonomy\": {\n",
      "        \"2085r0001x\": 99991231\n",
      "      },\n",
      "      \"enterprise_provider_id\": \"1821838\",\n",
      "      \"generated_key\": \"1821838-752931720-T-1130898-L\",\n",
      "      \"doc_expire_date\": 253402214400,\n",
      "      \"first_name\": \"lewis\",\n",
      "      \"middle_name\": \"garvey\",\n",
      "      \"last_name\": \"smith\",\n",
      "      \"prov_type_code\": \"p\",\n",
      "      \"address_id\": 1130898,\n",
      "      \"address_line\": \"11937 us highway 271\",\n",
      "      \"city_name\": \"tyler\",\n",
      "      \"county_name\": \"smith\",\n",
      "      \"state_code\": \"tx\",\n",
      "      \"zipcode\": \"75708\",\n",
      "      \"geocode\": {\n",
      "        \"lat\": 32.423875,\n",
      "        \"lng\": -95.209221\n",
      "      },\n",
      "      \"summaryfeatures\": {\n",
      "        \"bm25_address\": 5.380317553399983,\n",
      "        \"bm25_person\": 5.169760103098383,\n",
      "        \"vespa.summaryFeatures.cached\": 0.0\n",
      "      }\n",
      "    }\n",
      "  },\n",
      "  {\n",
      "    \"id\": \"id:practitioner:practitioner::1425288-411754276-T-2483000-H\",\n",
      "    \"relevance\": 10.339520206196767,\n",
      "    \"source\": \"provider_content\",\n",
      "    \"fields\": {\n",
      "      \"sddocname\": \"practitioner\",\n",
      "      \"documentid\": \"id:practitioner:practitioner::1425288-411754276-T-2483000-H\",\n",
      "      \"csp_contract\": {\n",
      "        \"275\": 99991231,\n",
      "        \"276\": 99991231,\n",
      "        \"277\": 99991231,\n",
      "        \"420\": 99991231,\n",
      "        \"278\": 99991231,\n",
      "        \"422\": 99991231\n",
      "      },\n",
      "      \"unet_contract\": {\n",
      "        \"220-d0-\": 99991231,\n",
      "        \"22700-ed-o\": 99991231,\n",
      "        \"22700-s8-o\": 99991231,\n",
      "        \"22700-ec-o\": 99991231,\n",
      "        \"22700-s7-o\": 99991231,\n",
      "        \"22700-eb-o\": 99991231,\n",
      "        \"22700-ea-o\": 99991231,\n",
      "        \"22700-s9-o\": 99991231,\n",
      "        \"22700-eh-o\": 99991231,\n",
      "        \"22700-eg-o\": 99991231,\n",
      "        \"22700-ef-o\": 99991231,\n",
      "        \"22700-ee-o\": 99991231,\n",
      "        \"22700-s0-o\": 99991231,\n",
      "        \"480-d0-\": 99991231,\n",
      "        \"22700-s2-o\": 99991231,\n",
      "        \"22700-ei-o\": 99991231,\n",
      "        \"22700-s1-o\": 99991231,\n",
      "        \"22700-si-o\": 99991231,\n",
      "        \"22700-sg-o\": 99991231,\n",
      "        \"22700-sh-o\": 99991231,\n",
      "        \"22700-lh-o\": 99991231,\n",
      "        \"22700-li-o\": 99991231,\n",
      "        \"22700-lg-o\": 99991231,\n",
      "        \"22502-i1-c\": 99991231,\n",
      "        \"22502-i2-c\": 99991231,\n",
      "        \"22502-i3-c\": 99991231,\n",
      "        \"22700-p3-o\": 99991231,\n",
      "        \"22502-id-m\": 99991231,\n",
      "        \"22502-ie-m\": 99991231,\n",
      "        \"8444444-aa-\": 99991231,\n",
      "        \"22700-c1-o\": 99991231,\n",
      "        \"22700-c2-o\": 99991231,\n",
      "        \"22700-c0-o\": 99991231\n",
      "      },\n",
      "      \"specialty_org\": {\n",
      "        \"037-medi-s\": 99991231,\n",
      "        \"077-medi-p\": 99991231,\n",
      "        \"077-uhn-p\": 99991231\n",
      "      },\n",
      "      \"contract_org\": {\n",
      "        \"medi-s-n\": 99991231,\n",
      "        \"uhn-s-n\": 99991231\n",
      "      },\n",
      "      \"national_taxonomy\": {\n",
      "        \"363lp0200x\": 99991231\n",
      "      },\n",
      "      \"enterprise_provider_id\": \"1425288\",\n",
      "      \"generated_key\": \"1425288-411754276-T-2483000-H\",\n",
      "      \"doc_expire_date\": 253402214400,\n",
      "      \"first_name\": \"connie\",\n",
      "      \"middle_name\": \"b\",\n",
      "      \"last_name\": \"smith\",\n",
      "      \"prov_type_code\": \"p\",\n",
      "      \"address_id\": 2483000,\n",
      "      \"address_line\": \"po box 860114\",\n",
      "      \"city_name\": \"minneapolis\",\n",
      "      \"county_name\": \"hennepin\",\n",
      "      \"state_code\": \"mn\",\n",
      "      \"zipcode\": \"55486\",\n",
      "      \"geocode\": {\n",
      "        \"lat\": 44.977214,\n",
      "        \"lng\": -93.269688\n",
      "      },\n",
      "      \"summaryfeatures\": {\n",
      "        \"bm25_address\": 0.0,\n",
      "        \"bm25_person\": 5.169760103098383,\n",
      "        \"vespa.summaryFeatures.cached\": 0.0\n",
      "      }\n",
      "    }\n",
      "  },\n",
      "  {\n",
      "    \"id\": \"id:practitioner:practitioner::7299899-61685195-T-2082168-L\",\n",
      "    \"relevance\": 10.339520206196767,\n",
      "    \"source\": \"provider_content\",\n",
      "    \"fields\": {\n",
      "      \"sddocname\": \"practitioner\",\n",
      "      \"documentid\": \"id:practitioner:practitioner::7299899-61685195-T-2082168-L\",\n",
      "      \"cosmos_contract\": {\n",
      "        \"mnr-135\": 99991231,\n",
      "        \"mnr-134\": 99991231,\n",
      "        \"mnr-112\": 99991231,\n",
      "        \"mnr-133\": 99991231,\n",
      "        \"mnr-132\": 99991231,\n",
      "        \"evc-7\": 99991231,\n",
      "        \"evc-47\": 99991231,\n",
      "        \"evc-684\": 99991231,\n",
      "        \"mnr-136\": 99991231\n",
      "      },\n",
      "      \"csp_contract\": {\n",
      "        \"290\": 99991231,\n",
      "        \"291\": 99991231,\n",
      "        \"281\": 99991231\n",
      "      },\n",
      "      \"unet_contract\": {\n",
      "        \"16482-sg-o\": 99991231,\n",
      "        \"16482-sh-o\": 99991231,\n",
      "        \"16482-si-o\": 99991231,\n",
      "        \"16482-r0-\": 99991231,\n",
      "        \"450-d0-\": 99991231,\n",
      "        \"160-d0-\": 99991231,\n",
      "        \"16482-p3-o\": 99991231,\n",
      "        \"16482-li-o\": 99991231,\n",
      "        \"71036-r0-\": 99991231,\n",
      "        \"16482-lh-o\": 99991231,\n",
      "        \"16482-lg-o\": 99991231,\n",
      "        \"16482-c0-o\": 99991231,\n",
      "        \"16482-a2-o\": 99991231,\n",
      "        \"16482-c1-o\": 99991231,\n",
      "        \"16482-c2-o\": 99991231,\n",
      "        \"16482-a1-o\": 99991231,\n",
      "        \"16482-a3-o\": 99991231,\n",
      "        \"16482-eb-o\": 99991231,\n",
      "        \"16482-ea-o\": 99991231,\n",
      "        \"16482-s8-o\": 99991231,\n",
      "        \"16482-s7-o\": 99991231,\n",
      "        \"16482-ef-o\": 99991231,\n",
      "        \"16482-s9-o\": 99991231,\n",
      "        \"16482-ee-o\": 99991231,\n",
      "        \"16482-ed-o\": 99991231,\n",
      "        \"16482-ec-o\": 99991231,\n",
      "        \"16482-s0-o\": 99991231,\n",
      "        \"16482-s2-o\": 99991231,\n",
      "        \"16482-eg-o\": 99991231,\n",
      "        \"16482-s1-o\": 99991231,\n",
      "        \"16482-eh-o\": 99991231,\n",
      "        \"16482-ei-o\": 99991231\n",
      "      },\n",
      "      \"specialty_org\": {\n",
      "        \"339-uhn-s\": 99991231,\n",
      "        \"077-uhn-p\": 99991231\n",
      "      },\n",
      "      \"contract_org\": {\n",
      "        \"uhn-s-s\": 99991231\n",
      "      },\n",
      "      \"national_taxonomy\": {\n",
      "        \"363lf0000x\": 99991231\n",
      "      },\n",
      "      \"enterprise_provider_id\": \"7299899\",\n",
      "      \"generated_key\": \"7299899-61685195-T-2082168-L\",\n",
      "      \"doc_expire_date\": 253402214400,\n",
      "      \"first_name\": \"leandra\",\n",
      "      \"middle_name\": \"g\",\n",
      "      \"last_name\": \"smith\",\n",
      "      \"prov_type_code\": \"p\",\n",
      "      \"address_id\": 2082168,\n",
      "      \"address_line\": \"21992 main st\",\n",
      "      \"city_name\": \"hyden\",\n",
      "      \"county_name\": \"leslie\",\n",
      "      \"state_code\": \"ky\",\n",
      "      \"zipcode\": \"41749\",\n",
      "      \"geocode\": {\n",
      "        \"lat\": 37.162389,\n",
      "        \"lng\": -83.373829\n",
      "      },\n",
      "      \"summaryfeatures\": {\n",
      "        \"bm25_address\": 0.0,\n",
      "        \"bm25_person\": 5.169760103098383,\n",
      "        \"vespa.summaryFeatures.cached\": 0.0\n",
      "      }\n",
      "    }\n",
      "  },\n",
      "  {\n",
      "    \"id\": \"id:practitioner:practitioner::2086414-571004971-T-2686693-H\",\n",
      "    \"relevance\": 10.339520206196767,\n",
      "    \"source\": \"provider_content\",\n",
      "    \"fields\": {\n",
      "      \"sddocname\": \"practitioner\",\n",
      "      \"documentid\": \"id:practitioner:practitioner::2086414-571004971-T-2686693-H\",\n",
      "      \"cosmos_contract\": {\n",
      "        \"mnr-135\": 99991231,\n",
      "        \"mnr-134\": 99991231,\n",
      "        \"mnr-112\": 99991231,\n",
      "        \"vrg-8\": 99991231,\n",
      "        \"mnr-133\": 99991231,\n",
      "        \"mnr-132\": 99991231,\n",
      "        \"evc-684\": 99991231,\n",
      "        \"mnr-136\": 99991231,\n",
      "        \"gso-8\": 99991231,\n",
      "        \"gso-662\": 99991231,\n",
      "        \"evc-7\": 99991231,\n",
      "        \"evc-47\": 99991231,\n",
      "        \"vrg-731\": 99991231,\n",
      "        \"evc-807\": 99991231\n",
      "      },\n",
      "      \"unet_contract\": {\n",
      "        \"39565-a1-c\": 99991231,\n",
      "        \"39565-c2-c\": 99991231,\n",
      "        \"39565-a2-c\": 99991231,\n",
      "        \"39565-a3-c\": 99991231,\n",
      "        \"39565-er-c\": 99991231,\n",
      "        \"39565-c1-c\": 99991231,\n",
      "        \"39565-c0-c\": 99991231,\n",
      "        \"85003-f4-o\": 99991231,\n",
      "        \"39565-e0-o\": 99991231,\n",
      "        \"39565-re-\": 99991231,\n",
      "        \"39565-r9-\": 99991231,\n",
      "        \"39565-p3-c\": 99991231,\n",
      "        \"39565-li-c\": 99991231,\n",
      "        \"39565-lg-c\": 99991231,\n",
      "        \"39565-lh-c\": 99991231,\n",
      "        \"39565-v3-c\": 99991231,\n",
      "        \"39565-r7-\": 99991231,\n",
      "        \"39565-sg-c\": 99991231,\n",
      "        \"39565-si-c\": 99991231,\n",
      "        \"39565-r0-\": 99991231,\n",
      "        \"39565-sh-c\": 99991231,\n",
      "        \"39565-r7-o\": 99991231,\n",
      "        \"320-d0-\": 99991231,\n",
      "        \"39565-eg-c\": 99991231,\n",
      "        \"39565-ef-c\": 99991231,\n",
      "        \"39565-ee-c\": 99991231,\n",
      "        \"39565-ed-c\": 99991231,\n",
      "        \"39565-ec-c\": 99991231,\n",
      "        \"39565-s7-c\": 99991231,\n",
      "        \"39565-eb-c\": 99991231,\n",
      "        \"39565-s9-c\": 99991231,\n",
      "        \"39565-ea-c\": 99991231,\n",
      "        \"39565-s8-c\": 99991231,\n",
      "        \"39565-eo-c\": 99991231,\n",
      "        \"39565-s2-c\": 99991231,\n",
      "        \"39565-el-c\": 99991231,\n",
      "        \"39565-s1-c\": 99991231,\n",
      "        \"39565-ei-c\": 99991231,\n",
      "        \"39565-s0-c\": 99991231,\n",
      "        \"39565-eh-c\": 99991231\n",
      "      },\n",
      "      \"specialty_org\": {\n",
      "        \"005-uhn-p\": 99991231\n",
      "      },\n",
      "      \"national_taxonomy\": {\n",
      "        \"207l00000x\": 99991231\n",
      "      },\n",
      "      \"enterprise_provider_id\": \"2086414\",\n",
      "      \"generated_key\": \"2086414-571004971-T-2686693-H\",\n",
      "      \"doc_expire_date\": 253402214400,\n",
      "      \"first_name\": \"trevor\",\n",
      "      \"middle_name\": \"keith\",\n",
      "      \"last_name\": \"smith\",\n",
      "      \"prov_type_code\": \"p\",\n",
      "      \"address_id\": 2686693,\n",
      "      \"address_line\": \"po box 603090\",\n",
      "      \"city_name\": \"charlotte\",\n",
      "      \"county_name\": \"mecklenburg\",\n",
      "      \"state_code\": \"nc\",\n",
      "      \"zipcode\": \"28260\",\n",
      "      \"geocode\": {\n",
      "        \"lat\": 35.236297,\n",
      "        \"lng\": -80.91464\n",
      "      },\n",
      "      \"summaryfeatures\": {\n",
      "        \"bm25_address\": 0.0,\n",
      "        \"bm25_person\": 5.169760103098383,\n",
      "        \"vespa.summaryFeatures.cached\": 0.0\n",
      "      }\n",
      "    }\n",
      "  },\n",
      "  {\n",
      "    \"id\": \"id:practitioner:practitioner::4007764-340768857-T-2573498-L\",\n",
      "    \"relevance\": 10.339520206196767,\n",
      "    \"source\": \"provider_content\",\n",
      "    \"fields\": {\n",
      "      \"sddocname\": \"practitioner\",\n",
      "      \"documentid\": \"id:practitioner:practitioner::4007764-340768857-T-2573498-L\",\n",
      "      \"specialty_org\": {\n",
      "        \"063-ubh-p\": 99991231,\n",
      "        \"063-uhn-p\": 99991231\n",
      "      },\n",
      "      \"national_taxonomy\": {\n",
      "        \"1041c0700x\": 99991231\n",
      "      },\n",
      "      \"enterprise_provider_id\": \"4007764\",\n",
      "      \"generated_key\": \"4007764-340768857-T-2573498-L\",\n",
      "      \"doc_expire_date\": 253402214400,\n",
      "      \"first_name\": \"diane\",\n",
      "      \"middle_name\": \"t\",\n",
      "      \"last_name\": \"smith\",\n",
      "      \"prov_type_code\": \"p\",\n",
      "      \"address_id\": 2573498,\n",
      "      \"address_line\": \"615 sunbury rd\",\n",
      "      \"city_name\": \"delaware\",\n",
      "      \"county_name\": \"delaware\",\n",
      "      \"state_code\": \"oh\",\n",
      "      \"zipcode\": \"43015\",\n",
      "      \"geocode\": {\n",
      "        \"lat\": 40.296403,\n",
      "        \"lng\": -83.041466\n",
      "      },\n",
      "      \"summaryfeatures\": {\n",
      "        \"bm25_address\": 0.0,\n",
      "        \"bm25_person\": 5.169760103098383,\n",
      "        \"vespa.summaryFeatures.cached\": 0.0\n",
      "      }\n",
      "    }\n",
      "  },\n",
      "  {\n",
      "    \"id\": \"id:practitioner:practitioner::3157906-560529994-T-2806527-H\",\n",
      "    \"relevance\": 10.339520206196767,\n",
      "    \"source\": \"provider_content\",\n",
      "    \"fields\": {\n",
      "      \"sddocname\": \"practitioner\",\n",
      "      \"documentid\": \"id:practitioner:practitioner::3157906-560529994-T-2806527-H\",\n",
      "      \"cosmos_contract\": {\n",
      "        \"mnr-135\": 99991231,\n",
      "        \"mnr-134\": 99991231,\n",
      "        \"mnr-112\": 99991231,\n",
      "        \"vrg-8\": 99991231,\n",
      "        \"mnr-133\": 99991231,\n",
      "        \"mnr-132\": 99991231,\n",
      "        \"gso-15\": 99991231,\n",
      "        \"gso-47\": 99991231,\n",
      "        \"evc-684\": 99991231,\n",
      "        \"gso-8\": 99991231,\n",
      "        \"mnr-136\": 99991231,\n",
      "        \"gso-662\": 99991231,\n",
      "        \"evc-7\": 99991231,\n",
      "        \"vrg-731\": 99991231,\n",
      "        \"evc-47\": 99991231,\n",
      "        \"evc-807\": 99991231\n",
      "      },\n",
      "      \"csp_contract\": {\n",
      "        \"217\": 99991231,\n",
      "        \"901\": 99991231,\n",
      "        \"281\": 99991231,\n",
      "        \"216\": 99991231\n",
      "      },\n",
      "      \"unet_contract\": {\n",
      "        \"32540-s1-o\": 99991231,\n",
      "        \"32540-s0-o\": 99991231,\n",
      "        \"32540-s2-o\": 99991231,\n",
      "        \"32540-sh-o\": 99991231,\n",
      "        \"32540-ec-o\": 99991231,\n",
      "        \"32540-si-o\": 99991231,\n",
      "        \"32540-eb-o\": 99991231,\n",
      "        \"32540-ea-o\": 99991231,\n",
      "        \"32540-sg-o\": 99991231,\n",
      "        \"450-d0-\": 99991231,\n",
      "        \"32540-eg-o\": 99991231,\n",
      "        \"32540-ef-o\": 99991231,\n",
      "        \"32540-ee-o\": 99991231,\n",
      "        \"32540-ed-o\": 99991231,\n",
      "        \"32540-p3-o\": 99991231,\n",
      "        \"32540-v3-o\": 99991231,\n",
      "        \"32540-p2-o\": 99991231,\n",
      "        \"32540-r0-\": 99991231,\n",
      "        \"85001-f4-o\": 99991231,\n",
      "        \"32540-li-o\": 99991231,\n",
      "        \"320-e0-\": 99991231,\n",
      "        \"71017-r0-\": 99991231,\n",
      "        \"32540-lg-o\": 99991231,\n",
      "        \"32540-lh-o\": 99991231,\n",
      "        \"320-d0-\": 99991231,\n",
      "        \"32540-n4-\": 99991231,\n",
      "        \"32540-ei-o\": 99991231,\n",
      "        \"32540-eh-o\": 99991231,\n",
      "        \"32540-eo-o\": 99991231,\n",
      "        \"32540-el-o\": 99991231,\n",
      "        \"32540-s7-o\": 99991231,\n",
      "        \"32540-c0-o\": 99991231,\n",
      "        \"32540-c1-o\": 99991231,\n",
      "        \"32540-er-o\": 99991231,\n",
      "        \"32540-s9-o\": 99991231,\n",
      "        \"32540-s8-o\": 99991231,\n",
      "        \"32540-a1-o\": 99991231,\n",
      "        \"32540-c2-o\": 99991231,\n",
      "        \"32540-a3-o\": 99991231,\n",
      "        \"32540-a2-o\": 99991231\n",
      "      },\n",
      "      \"specialty_org\": {\n",
      "        \"339-uhn-s\": 99991231,\n",
      "        \"077-uhn-p\": 99991231\n",
      "      },\n",
      "      \"contract_org\": {\n",
      "        \"uhn-s-s\": 99991231\n",
      "      },\n",
      "      \"national_taxonomy\": {\n",
      "        \"363lf0000x\": 99991231\n",
      "      },\n",
      "      \"enterprise_provider_id\": \"3157906\",\n",
      "      \"generated_key\": \"3157906-560529994-T-2806527-H\",\n",
      "      \"doc_expire_date\": 253402214400,\n",
      "      \"first_name\": \"laura\",\n",
      "      \"middle_name\": \"easterwood\",\n",
      "      \"last_name\": \"smith\",\n",
      "      \"prov_type_code\": \"p\",\n",
      "      \"address_id\": 2806527,\n",
      "      \"address_line\": \"po box 531883\",\n",
      "      \"city_name\": \"atlanta\",\n",
      "      \"county_name\": \"fulton\",\n",
      "      \"state_code\": \"ga\",\n",
      "      \"zipcode\": \"30353\",\n",
      "      \"geocode\": {\n",
      "        \"lat\": 33.747562,\n",
      "        \"lng\": -84.393544\n",
      "      },\n",
      "      \"summaryfeatures\": {\n",
      "        \"bm25_address\": 0.0,\n",
      "        \"bm25_person\": 5.169760103098383,\n",
      "        \"vespa.summaryFeatures.cached\": 0.0\n",
      "      }\n",
      "    }\n",
      "  },\n",
      "  {\n",
      "    \"id\": \"id:practitioner:practitioner::7377832-208488778-T-2434697-L\",\n",
      "    \"relevance\": 10.339520206196767,\n",
      "    \"source\": \"provider_content\",\n",
      "    \"fields\": {\n",
      "      \"sddocname\": \"practitioner\",\n",
      "      \"documentid\": \"id:practitioner:practitioner::7377832-208488778-T-2434697-L\",\n",
      "      \"specialty_org\": {\n",
      "        \"020-uhn-p\": 99991231\n",
      "      },\n",
      "      \"national_taxonomy\": {\n",
      "        \"207x00000x\": 99991231\n",
      "      },\n",
      "      \"enterprise_provider_id\": \"7377832\",\n",
      "      \"generated_key\": \"7377832-208488778-T-2434697-L\",\n",
      "      \"doc_expire_date\": 253402214400,\n",
      "      \"first_name\": \"heidi\",\n",
      "      \"middle_name\": \"j\",\n",
      "      \"last_name\": \"smith\",\n",
      "      \"prov_type_code\": \"p\",\n",
      "      \"address_id\": 2434697,\n",
      "      \"address_line\": \"3001 broadmoor blvd ne\",\n",
      "      \"city_name\": \"rio rancho\",\n",
      "      \"county_name\": \"sandoval\",\n",
      "      \"state_code\": \"nm\",\n",
      "      \"zipcode\": \"87144\",\n",
      "      \"geocode\": {\n",
      "        \"lat\": 35.307201,\n",
      "        \"lng\": -106.67716\n",
      "      },\n",
      "      \"summaryfeatures\": {\n",
      "        \"bm25_address\": 0.0,\n",
      "        \"bm25_person\": 5.169760103098383,\n",
      "        \"vespa.summaryFeatures.cached\": 0.0\n",
      "      }\n",
      "    }\n",
      "  },\n",
      "  {\n",
      "    \"id\": \"id:practitioner:practitioner::6334193-522043450-T-377542-L\",\n",
      "    \"relevance\": 10.339520206196767,\n",
      "    \"source\": \"provider_content\",\n",
      "    \"fields\": {\n",
      "      \"sddocname\": \"practitioner\",\n",
      "      \"documentid\": \"id:practitioner:practitioner::6334193-522043450-T-377542-L\",\n",
      "      \"specialty_org\": {\n",
      "        \"338-uhn-p\": 99991231\n",
      "      },\n",
      "      \"national_taxonomy\": {\n",
      "        \"363a00000x\": 99991231\n",
      "      },\n",
      "      \"enterprise_provider_id\": \"6334193\",\n",
      "      \"generated_key\": \"6334193-522043450-T-377542-L\",\n",
      "      \"doc_expire_date\": 253402214400,\n",
      "      \"first_name\": \"mary\",\n",
      "      \"middle_name\": \"e\",\n",
      "      \"last_name\": \"smith\",\n",
      "      \"prov_type_code\": \"p\",\n",
      "      \"address_id\": 377542,\n",
      "      \"address_line\": \"9901 medical center dr\",\n",
      "      \"city_name\": \"rockville\",\n",
      "      \"county_name\": \"montgomery\",\n",
      "      \"state_code\": \"md\",\n",
      "      \"zipcode\": \"20850\",\n",
      "      \"geocode\": {\n",
      "        \"lat\": 39.098023,\n",
      "        \"lng\": -77.200778\n",
      "      },\n",
      "      \"summaryfeatures\": {\n",
      "        \"bm25_address\": 0.0,\n",
      "        \"bm25_person\": 5.169760103098383,\n",
      "        \"vespa.summaryFeatures.cached\": 0.0\n",
      "      }\n",
      "    }\n",
      "  },\n",
      "  {\n",
      "    \"id\": \"id:practitioner:practitioner::7338480-540957035-T-2956017-L\",\n",
      "    \"relevance\": 10.339520206196767,\n",
      "    \"source\": \"provider_content\",\n",
      "    \"fields\": {\n",
      "      \"sddocname\": \"practitioner\",\n",
      "      \"documentid\": \"id:practitioner:practitioner::7338480-540957035-T-2956017-L\",\n",
      "      \"csp_contract\": {\n",
      "        \"904\": 99991231\n",
      "      },\n",
      "      \"unet_contract\": {\n",
      "        \"450-e0-\": 99991231,\n",
      "        \"450-d0-\": 99991231,\n",
      "        \"98000-p3-o\": 99991231\n",
      "      },\n",
      "      \"specialty_org\": {\n",
      "        \"381-uhn-p\": 99991231,\n",
      "        \"381-ubh-p\": 99991231\n",
      "      },\n",
      "      \"contract_org\": {\n",
      "        \"ubh-s-s\": 99991231\n",
      "      },\n",
      "      \"national_taxonomy\": {\n",
      "        \"\": 99991231\n",
      "      },\n",
      "      \"enterprise_provider_id\": \"7338480\",\n",
      "      \"generated_key\": \"7338480-540957035-T-2956017-L\",\n",
      "      \"doc_expire_date\": 253402214400,\n",
      "      \"first_name\": \"felicia\",\n",
      "      \"middle_name\": \"m\",\n",
      "      \"last_name\": \"smith\",\n",
      "      \"prov_type_code\": \"p\",\n",
      "      \"address_id\": 2956017,\n",
      "      \"address_line\": \"6310 church rd\",\n",
      "      \"city_name\": \"north dinwiddie\",\n",
      "      \"county_name\": \"dinwiddie\",\n",
      "      \"state_code\": \"va\",\n",
      "      \"zipcode\": \"23803\",\n",
      "      \"geocode\": {\n",
      "        \"lat\": 37.219743,\n",
      "        \"lng\": -77.444203\n",
      "      },\n",
      "      \"summaryfeatures\": {\n",
      "        \"bm25_address\": 0.0,\n",
      "        \"bm25_person\": 5.169760103098383,\n",
      "        \"vespa.summaryFeatures.cached\": 0.0\n",
      "      }\n",
      "    }\n",
      "  },\n",
      "  {\n",
      "    \"id\": \"id:practitioner:practitioner::2094911-841343242-T-2807891-H\",\n",
      "    \"relevance\": 10.339520206196767,\n",
      "    \"source\": \"provider_content\",\n",
      "    \"fields\": {\n",
      "      \"sddocname\": \"practitioner\",\n",
      "      \"documentid\": \"id:practitioner:practitioner::2094911-841343242-T-2807891-H\",\n",
      "      \"unet_contract\": {\n",
      "        \"5440-c0-\": 99991231\n",
      "      },\n",
      "      \"specialty_org\": {\n",
      "        \"020-uhn-p\": 99991231\n",
      "      },\n",
      "      \"contract_org\": {\n",
      "        \"uhn-s-n\": 99991231\n",
      "      },\n",
      "      \"national_taxonomy\": {\n",
      "        \"207x00000x\": 99991231\n",
      "      },\n",
      "      \"enterprise_provider_id\": \"2094911\",\n",
      "      \"generated_key\": \"2094911-841343242-T-2807891-H\",\n",
      "      \"doc_expire_date\": 253402214400,\n",
      "      \"first_name\": \"wade\",\n",
      "      \"middle_name\": \"russell\",\n",
      "      \"last_name\": \"smith\",\n",
      "      \"prov_type_code\": \"p\",\n",
      "      \"address_id\": 2807891,\n",
      "      \"address_line\": \"po box 677931\",\n",
      "      \"city_name\": \"dallas\",\n",
      "      \"county_name\": \"dallas\",\n",
      "      \"state_code\": \"tx\",\n",
      "      \"zipcode\": \"75267\",\n",
      "      \"geocode\": {\n",
      "        \"lat\": 32.768123,\n",
      "        \"lng\": -96.82816\n",
      "      },\n",
      "      \"summaryfeatures\": {\n",
      "        \"bm25_address\": 0.0,\n",
      "        \"bm25_person\": 5.169760103098383,\n",
      "        \"vespa.summaryFeatures.cached\": 0.0\n",
      "      }\n",
      "    }\n",
      "  }\n",
      "]\n"
     ]
    }
   ],
   "source": [
    "vespa_app = Vespa(url = settings.vespa_url_local) #connect to local host\n",
    "schema_name = \"practitioner\" #[\"organization\", \"practitioner\"]\n",
    "ranking_profile = \"org_bm25\" if schema_name.startswith(\"o\") else \"prov_bm25\"\n",
    "return_fields = \"*\"\n",
    "query_term = \"john smith\"\n",
    "\n",
    "printbold(\"Query example 1: text matching for schema {}...\".format(schema_name))\n",
    "query = {\n",
    "    'yql': 'select {} from sources {} where userQuery();'.format(return_fields, schema_name),\n",
    "    'query': query_term,\n",
    "    'ranking': ranking_profile,\n",
    "    'type': 'any',\n",
    "    'presentation.timing': True,\n",
    "    'hits': settings.num_hit \n",
    "}\n",
    "\n",
    "#show query and results\n",
    "get_vespa_results(vespa_app, query)"
   ]
  },
  {
   "cell_type": "code",
   "execution_count": 13,
   "id": "495a94af",
   "metadata": {
    "scrolled": true,
    "pycharm": {
     "name": "#%%\n"
    }
   },
   "outputs": [
    {
     "data": {
      "text/plain": "<IPython.core.display.Markdown object>",
      "text/markdown": "**Query example 2: text matching for schema organization on a specific fieldset: organization...**"
     },
     "metadata": {},
     "output_type": "display_data"
    },
    {
     "data": {
      "text/plain": "<IPython.core.display.Markdown object>",
      "text/markdown": "**Query (url):**"
     },
     "metadata": {},
     "output_type": "display_data"
    },
    {
     "name": "stdout",
     "output_type": "stream",
     "text": [
      "http://localhost:8080/search/?yql=select+%2A+from+sources+organization+where+organization+contains+%22wellness+clinics%22%3B&ranking=org_bm25&type=any&presentation.timing=True&hits=10\n"
     ]
    },
    {
     "data": {
      "text/plain": "<IPython.core.display.Markdown object>",
      "text/markdown": "**Response time:**"
     },
     "metadata": {},
     "output_type": "display_data"
    },
    {
     "name": "stdout",
     "output_type": "stream",
     "text": [
      "35.14 ms\n"
     ]
    },
    {
     "data": {
      "text/plain": "<IPython.core.display.Markdown object>",
      "text/markdown": "**Search time:**"
     },
     "metadata": {},
     "output_type": "display_data"
    },
    {
     "name": "stdout",
     "output_type": "stream",
     "text": [
      "21.00 ms\n"
     ]
    },
    {
     "data": {
      "text/plain": "<IPython.core.display.Markdown object>",
      "text/markdown": "**Total records:**"
     },
     "metadata": {},
     "output_type": "display_data"
    },
    {
     "name": "stdout",
     "output_type": "stream",
     "text": [
      "4042\n"
     ]
    },
    {
     "data": {
      "text/plain": "<IPython.core.display.Markdown object>",
      "text/markdown": "**Total matched results:**"
     },
     "metadata": {},
     "output_type": "display_data"
    },
    {
     "name": "stdout",
     "output_type": "stream",
     "text": [
      "2\n"
     ]
    },
    {
     "data": {
      "text/plain": "<IPython.core.display.Markdown object>",
      "text/markdown": "**Top results:**"
     },
     "metadata": {},
     "output_type": "display_data"
    },
    {
     "name": "stdout",
     "output_type": "stream",
     "text": [
      "[\n",
      "  {\n",
      "    \"id\": \"id:organization:organization::5809943-474339905-T-1554078-D\",\n",
      "    \"relevance\": 9.180158590857811,\n",
      "    \"source\": \"provider_content\",\n",
      "    \"fields\": {\n",
      "      \"sddocname\": \"organization\",\n",
      "      \"documentid\": \"id:organization:organization::5809943-474339905-T-1554078-D\",\n",
      "      \"specialty_org\": {\n",
      "        \"384-acn-p\": 99991231,\n",
      "        \"384-uhn-p\": 99991231\n",
      "      },\n",
      "      \"contract_org\": {\n",
      "        \"uhn-p-p\": 99991231\n",
      "      },\n",
      "      \"national_taxonomy\": {\n",
      "        \"261qh0100x\": 99991231\n",
      "      },\n",
      "      \"enterprise_provider_id\": \"5809943\",\n",
      "      \"generated_key\": \"5809943-474339905-T-1554078-D\",\n",
      "      \"doc_expire_date\": 253402214400,\n",
      "      \"org_name\": \"vancouver wellness clinic\",\n",
      "      \"prov_type_code\": \"o\",\n",
      "      \"organization_type_code\": \"050\",\n",
      "      \"address_id\": 1554078,\n",
      "      \"address_line\": \"304 e 37th st\",\n",
      "      \"city_name\": \"vancouver\",\n",
      "      \"county_name\": \"clark\",\n",
      "      \"state_code\": \"wa\",\n",
      "      \"zipcode\": \"98663\",\n",
      "      \"geocode\": {\n",
      "        \"lat\": 45.648575,\n",
      "        \"lng\": -122.6686\n",
      "      },\n",
      "      \"summaryfeatures\": {\n",
      "        \"bm25_address\": 0.0,\n",
      "        \"bm25_organization\": 4.590079295428906,\n",
      "        \"vespa.summaryFeatures.cached\": 0.0\n",
      "      }\n",
      "    }\n",
      "  },\n",
      "  {\n",
      "    \"id\": \"id:organization:organization::3611938-454315048-T-3470064-L\",\n",
      "    \"relevance\": 8.18470487151685,\n",
      "    \"source\": \"provider_content\",\n",
      "    \"fields\": {\n",
      "      \"sddocname\": \"organization\",\n",
      "      \"documentid\": \"id:organization:organization::3611938-454315048-T-3470064-L\",\n",
      "      \"specialty_org\": {\n",
      "        \"073-uhn-p\": 99991231,\n",
      "        \"201-uhn-s\": 99991231,\n",
      "        \"073-acn-p\": 99991231,\n",
      "        \"201-acn-s\": 99991231\n",
      "      },\n",
      "      \"contract_org\": {\n",
      "        \"uhn-s-s\": 99991231\n",
      "      },\n",
      "      \"national_taxonomy\": {\n",
      "        \"171100000x\": 99991231\n",
      "      },\n",
      "      \"enterprise_provider_id\": \"3611938\",\n",
      "      \"generated_key\": \"3611938-454315048-T-3470064-L\",\n",
      "      \"doc_expire_date\": 253402214400,\n",
      "      \"org_name\": \"a plus wellness clinic\",\n",
      "      \"prov_type_code\": \"o\",\n",
      "      \"organization_type_code\": \"050\",\n",
      "      \"address_id\": 3470064,\n",
      "      \"address_line\": \"5001 birch st # 5\",\n",
      "      \"city_name\": \"newport beach\",\n",
      "      \"county_name\": \"orange\",\n",
      "      \"state_code\": \"ca\",\n",
      "      \"zipcode\": \"92660\",\n",
      "      \"geocode\": {\n",
      "        \"lat\": 33.632208,\n",
      "        \"lng\": -117.871586\n",
      "      },\n",
      "      \"summaryfeatures\": {\n",
      "        \"bm25_address\": 0.0,\n",
      "        \"bm25_organization\": 4.092352435758425,\n",
      "        \"vespa.summaryFeatures.cached\": 0.0\n",
      "      }\n",
      "    }\n",
      "  }\n",
      "]\n"
     ]
    }
   ],
   "source": [
    "vespa_app = Vespa(url = settings.vespa_url_local) #connect to local host\n",
    "schema_name = \"organization\" #[\"organization\", \"practitioner\"]\n",
    "ranking_profile = \"org_bm25\" if schema_name.startswith(\"o\") else \"prov_bm25\"\n",
    "return_fields = \"*\"\n",
    "query_field = \"organization\"\n",
    "query_term = '\"wellness clinics\"'\n",
    "\n",
    "printbold(\"Query example 2: text matching for schema {} on a specific fieldset: {}...\".format(schema_name, query_field))\n",
    "query = {\n",
    "    'yql': 'select {} from sources {} where {} contains {};'.format(return_fields, schema_name, \n",
    "                                                                    query_field, query_term),\n",
    "    'ranking': ranking_profile,\n",
    "    'type': 'any',\n",
    "    'presentation.timing': True,\n",
    "    'hits': settings.num_hit\n",
    "}\n",
    "\n",
    "#show query and results\n",
    "get_vespa_results(vespa_app, query)"
   ]
  },
  {
   "cell_type": "code",
   "execution_count": 14,
   "id": "0058b5bc",
   "metadata": {
    "scrolled": true,
    "pycharm": {
     "name": "#%%\n"
    }
   },
   "outputs": [
    {
     "data": {
      "text/plain": "<IPython.core.display.Markdown object>",
      "text/markdown": "**Query example 3: text matching with geo search for schema organization...**"
     },
     "metadata": {},
     "output_type": "display_data"
    },
    {
     "data": {
      "text/plain": "<IPython.core.display.Markdown object>",
      "text/markdown": "**Query (url):**"
     },
     "metadata": {},
     "output_type": "display_data"
    },
    {
     "name": "stdout",
     "output_type": "stream",
     "text": [
      "http://localhost:8080/search/?yql=select+%2A+from+sources+organization+where+userQuery%28%29+and+geoLocation%28geocode%2C+39.59204%2C+-104.91942%2C+%2225+miles%22%29%3B&query=little+clinic&ranking=org_geo_filter&listtype=any&presentation.timing=True&hits=10\n"
     ]
    },
    {
     "data": {
      "text/plain": "<IPython.core.display.Markdown object>",
      "text/markdown": "**Response time:**"
     },
     "metadata": {},
     "output_type": "display_data"
    },
    {
     "name": "stdout",
     "output_type": "stream",
     "text": [
      "52.69 ms\n"
     ]
    },
    {
     "data": {
      "text/plain": "<IPython.core.display.Markdown object>",
      "text/markdown": "**Search time:**"
     },
     "metadata": {},
     "output_type": "display_data"
    },
    {
     "name": "stdout",
     "output_type": "stream",
     "text": [
      "37.00 ms\n"
     ]
    },
    {
     "data": {
      "text/plain": "<IPython.core.display.Markdown object>",
      "text/markdown": "**Total records:**"
     },
     "metadata": {},
     "output_type": "display_data"
    },
    {
     "name": "stdout",
     "output_type": "stream",
     "text": [
      "4042\n"
     ]
    },
    {
     "data": {
      "text/plain": "<IPython.core.display.Markdown object>",
      "text/markdown": "**Total matched results:**"
     },
     "metadata": {},
     "output_type": "display_data"
    },
    {
     "name": "stdout",
     "output_type": "stream",
     "text": [
      "3\n"
     ]
    },
    {
     "data": {
      "text/plain": "<IPython.core.display.Markdown object>",
      "text/markdown": "**Top results:**"
     },
     "metadata": {},
     "output_type": "display_data"
    },
    {
     "name": "stdout",
     "output_type": "stream",
     "text": [
      "[\n",
      "  {\n",
      "    \"id\": \"id:organization:organization::2762037-841494091-T-2023399-D\",\n",
      "    \"relevance\": 7.315224451818665,\n",
      "    \"source\": \"provider_content\",\n",
      "    \"fields\": {\n",
      "      \"sddocname\": \"organization\",\n",
      "      \"documentid\": \"id:organization:organization::2762037-841494091-T-2023399-D\",\n",
      "      \"cosmos_contract\": {\n",
      "        \"mnr-135\": 99991231,\n",
      "        \"pnx-662\": 99991231,\n",
      "        \"mnr-112\": 99991231,\n",
      "        \"mnr-134\": 99991231,\n",
      "        \"mnr-133\": 99991231,\n",
      "        \"mnr-132\": 99991231,\n",
      "        \"evc-7\": 99991231,\n",
      "        \"evc-47\": 99991231,\n",
      "        \"evc-684\": 99991231,\n",
      "        \"mnr-136\": 99991231\n",
      "      },\n",
      "      \"unet_contract\": {\n",
      "        \"5440-ei-o\": 99991231,\n",
      "        \"5440-eg-o\": 99991231,\n",
      "        \"5440-eh-o\": 99991231,\n",
      "        \"5440-ee-o\": 99991231,\n",
      "        \"5440-ef-o\": 99991231,\n",
      "        \"5440-ec-o\": 99991231,\n",
      "        \"5440-ed-o\": 99991231,\n",
      "        \"71002-r0-\": 99991231,\n",
      "        \"5440-ea-o\": 99991231,\n",
      "        \"5440-eb-o\": 99991231,\n",
      "        \"5440-p3-o\": 99991231,\n",
      "        \"5440-r0-\": 99991231,\n",
      "        \"5440-sg-o\": 99991231,\n",
      "        \"5440-sh-o\": 99991231,\n",
      "        \"5440-si-o\": 99991231,\n",
      "        \"5440-s2-o\": 99991231,\n",
      "        \"5440-s1-o\": 99991231,\n",
      "        \"5440-s0-o\": 99991231,\n",
      "        \"5440-s8-o\": 99991231,\n",
      "        \"5440-s7-o\": 99991231,\n",
      "        \"5440-c0-o\": 99991231,\n",
      "        \"5440-a3-o\": 99991231,\n",
      "        \"5440-s9-o\": 99991231,\n",
      "        \"5440-c1-o\": 99991231,\n",
      "        \"5440-a2-o\": 99991231,\n",
      "        \"5440-a1-o\": 99991231,\n",
      "        \"5440-c2-o\": 99991231\n",
      "      },\n",
      "      \"specialty_org\": {\n",
      "        \"015-uhn-p\": 99991231\n",
      "      },\n",
      "      \"contract_org\": {\n",
      "        \"uhn-p-p\": 99991231\n",
      "      },\n",
      "      \"national_taxonomy\": {\n",
      "        \"208c00000x\": 99991231\n",
      "      },\n",
      "      \"enterprise_provider_id\": \"2762037\",\n",
      "      \"generated_key\": \"2762037-841494091-T-2023399-D\",\n",
      "      \"doc_expire_date\": 253402214400,\n",
      "      \"org_name\": \"sun clinic\",\n",
      "      \"prov_type_code\": \"o\",\n",
      "      \"organization_type_code\": \"033\",\n",
      "      \"address_id\": 2023399,\n",
      "      \"address_line\": \"9397 crown crest blvd ste 201\",\n",
      "      \"city_name\": \"parker\",\n",
      "      \"county_name\": \"douglas\",\n",
      "      \"state_code\": \"co\",\n",
      "      \"zipcode\": \"80138\",\n",
      "      \"geocode\": {\n",
      "        \"lat\": 39.548402,\n",
      "        \"lng\": -104.76536\n",
      "      },\n",
      "      \"summaryfeatures\": {\n",
      "        \"bm25_address\": 0.0,\n",
      "        \"bm25_organization\": 3.6576122259093324,\n",
      "        \"distance_mile\": 8.739219295828894,\n",
      "        \"vespa.summaryFeatures.cached\": 0.0\n",
      "      }\n",
      "    }\n",
      "  },\n",
      "  {\n",
      "    \"id\": \"id:organization:organization::3137775-271804731-T-2599261-H\",\n",
      "    \"relevance\": 5.728766589178102,\n",
      "    \"source\": \"provider_content\",\n",
      "    \"fields\": {\n",
      "      \"sddocname\": \"organization\",\n",
      "      \"documentid\": \"id:organization:organization::3137775-271804731-T-2599261-H\",\n",
      "      \"unet_contract\": {\n",
      "        \"5440-ei-o\": 99991231,\n",
      "        \"5440-eg-o\": 99991231,\n",
      "        \"5440-eh-o\": 99991231,\n",
      "        \"5440-ee-o\": 99991231,\n",
      "        \"5440-ef-o\": 99991231,\n",
      "        \"5440-ec-o\": 99991231,\n",
      "        \"71002-r0-\": 99991231,\n",
      "        \"5440-ed-o\": 99991231,\n",
      "        \"5440-lg-o\": 99991231,\n",
      "        \"5440-ea-o\": 99991231,\n",
      "        \"5440-eb-o\": 99991231,\n",
      "        \"5440-li-o\": 99991231,\n",
      "        \"5440-lh-o\": 99991231,\n",
      "        \"5440-p3-o\": 99991231,\n",
      "        \"5440-c1-\": 99991231,\n",
      "        \"50-e0-\": 99991231,\n",
      "        \"5440-sg-o\": 99991231,\n",
      "        \"5440-sh-o\": 99991231,\n",
      "        \"5440-si-o\": 99991231,\n",
      "        \"5440-s2-o\": 99991231,\n",
      "        \"5440-s1-o\": 99991231,\n",
      "        \"5440-s0-o\": 99991231,\n",
      "        \"5440-s8-o\": 99991231,\n",
      "        \"5440-s7-o\": 99991231,\n",
      "        \"5440-a3-o\": 99991231,\n",
      "        \"5440-c0-o\": 99991231,\n",
      "        \"5440-c1-o\": 99991231,\n",
      "        \"5440-a2-o\": 99991231,\n",
      "        \"5440-s9-o\": 99991231,\n",
      "        \"5440-c2-o\": 99991231,\n",
      "        \"5440-a1-o\": 99991231\n",
      "      },\n",
      "      \"specialty_org\": {\n",
      "        \"013-uhn-p\": 99991231\n",
      "      },\n",
      "      \"contract_org\": {\n",
      "        \"uhn-s-p\": 99991231\n",
      "      },\n",
      "      \"national_taxonomy\": {\n",
      "        \"2084n0600x\": 99991231,\n",
      "        \"2084n0400x\": 99991231,\n",
      "        \"193200000x\": 99991231,\n",
      "        \"2084n0008x\": 99991231\n",
      "      },\n",
      "      \"enterprise_provider_id\": \"3137775\",\n",
      "      \"generated_key\": \"3137775-271804731-T-2599261-H\",\n",
      "      \"doc_expire_date\": 253402214400,\n",
      "      \"org_name\": \"frontier neuro & neuromuscular clinic\",\n",
      "      \"prov_type_code\": \"o\",\n",
      "      \"organization_type_code\": \"033\",\n",
      "      \"address_id\": 2599261,\n",
      "      \"address_line\": \"3464 s willow st ste 707\",\n",
      "      \"city_name\": \"denver\",\n",
      "      \"county_name\": \"denver\",\n",
      "      \"state_code\": \"co\",\n",
      "      \"zipcode\": \"80231\",\n",
      "      \"geocode\": {\n",
      "        \"lat\": 39.653895,\n",
      "        \"lng\": -104.88765\n",
      "      },\n",
      "      \"summaryfeatures\": {\n",
      "        \"bm25_address\": 0.0,\n",
      "        \"bm25_organization\": 2.864383294589051,\n",
      "        \"distance_mile\": 4.596351966636843,\n",
      "        \"vespa.summaryFeatures.cached\": 0.0\n",
      "      },\n",
      "      \"csp_contract\": {\n",
      "        \"918\": 99991231\n",
      "      }\n",
      "    }\n",
      "  },\n",
      "  {\n",
      "    \"id\": \"id:organization:organization::6786373-823753925-T-3462371-L\",\n",
      "    \"relevance\": 5.728766589178102,\n",
      "    \"source\": \"provider_content\",\n",
      "    \"fields\": {\n",
      "      \"sddocname\": \"organization\",\n",
      "      \"documentid\": \"id:organization:organization::6786373-823753925-T-3462371-L\",\n",
      "      \"cosmos_contract\": {\n",
      "        \"mnr-135\": 99991231,\n",
      "        \"pnx-662\": 99991231,\n",
      "        \"mnr-134\": 99991231,\n",
      "        \"mnr-112\": 99991231,\n",
      "        \"mnr-133\": 99991231,\n",
      "        \"mnr-132\": 99991231,\n",
      "        \"evc-7\": 99991231,\n",
      "        \"evc-47\": 99991231,\n",
      "        \"evc-684\": 99991231,\n",
      "        \"mnr-136\": 99991231\n",
      "      },\n",
      "      \"unet_contract\": {\n",
      "        \"5440-r0-\": 99991231,\n",
      "        \"5440-ei-o\": 99991231,\n",
      "        \"5440-eg-o\": 99991231,\n",
      "        \"5440-eh-o\": 99991231,\n",
      "        \"5440-ee-o\": 99991231,\n",
      "        \"5440-ef-o\": 99991231,\n",
      "        \"5440-ec-o\": 99991231,\n",
      "        \"71002-r0-\": 99991231,\n",
      "        \"5440-ed-o\": 99991231,\n",
      "        \"5440-ea-o\": 99991231,\n",
      "        \"5440-eb-o\": 99991231,\n",
      "        \"8444444-aa-\": 99991231,\n",
      "        \"5440-s2-o\": 99991231,\n",
      "        \"5440-s1-o\": 99991231,\n",
      "        \"5440-s0-o\": 99991231,\n",
      "        \"5440-p3-o\": 99991231,\n",
      "        \"5440-c0-o\": 99991231,\n",
      "        \"5440-c1-o\": 99991231,\n",
      "        \"5440-c2-o\": 99991231\n",
      "      },\n",
      "      \"specialty_org\": {\n",
      "        \"050-uhn-p\": 99991231\n",
      "      },\n",
      "      \"contract_org\": {\n",
      "        \"uhn-s-s\": 99991231\n",
      "      },\n",
      "      \"national_taxonomy\": {\n",
      "        \"122300000x\": 99991231\n",
      "      },\n",
      "      \"enterprise_provider_id\": \"6786373\",\n",
      "      \"generated_key\": \"6786373-823753925-T-3462371-L\",\n",
      "      \"doc_expire_date\": 253402214400,\n",
      "      \"org_name\": \"apnea and breathing clinic\",\n",
      "      \"prov_type_code\": \"o\",\n",
      "      \"organization_type_code\": \"050\",\n",
      "      \"address_id\": 3462371,\n",
      "      \"address_line\": \"771 southpark dr\",\n",
      "      \"city_name\": \"littleton\",\n",
      "      \"county_name\": \"arapahoe\",\n",
      "      \"state_code\": \"co\",\n",
      "      \"zipcode\": \"80120\",\n",
      "      \"geocode\": {\n",
      "        \"lat\": 39.599898,\n",
      "        \"lng\": -105.007314\n",
      "      },\n",
      "      \"summaryfeatures\": {\n",
      "        \"bm25_address\": 0.0,\n",
      "        \"bm25_organization\": 2.864383294589051,\n",
      "        \"distance_mile\": 4.711154787975944,\n",
      "        \"vespa.summaryFeatures.cached\": 0.0\n",
      "      }\n",
      "    }\n",
      "  }\n",
      "]\n"
     ]
    }
   ],
   "source": [
    "vespa_app = Vespa(url = settings.vespa_url_local) #connect to local host\n",
    "schema_name = \"organization\" #[\"organization\", \"practitioner\"]\n",
    "ranking_profile = \"org_geo_filter\" if schema_name.startswith(\"o\") else \"prov_geo_filter\"\n",
    "return_fields = \"*\"\n",
    "query_term = 'little clinic'\n",
    "\n",
    "#geo search\n",
    "latitude = 39.592040\n",
    "longitude = -104.919420\n",
    "radius = 25\n",
    "\n",
    "printbold(\"Query example 3: text matching with geo search for schema {}...\".format(schema_name))\n",
    "query = {\n",
    "    'yql': 'select {} from sources {} where userQuery() and geoLocation(geocode, {}, {}, \"{} miles\");'.format(\n",
    "        return_fields, schema_name, latitude, longitude, radius),\n",
    "    'query': query_term,\n",
    "    'ranking': ranking_profile,\n",
    "    'list'\n",
    "    'type': 'any',\n",
    "    'presentation.timing': True,\n",
    "    'hits': settings.num_hit\n",
    "}\n",
    "\n",
    "#show query and results\n",
    "get_vespa_results(vespa_app, query)"
   ]
  },
  {
   "cell_type": "code",
   "execution_count": 15,
   "id": "584c9c67",
   "metadata": {
    "scrolled": true,
    "pycharm": {
     "name": "#%%\n"
    }
   },
   "outputs": [
    {
     "data": {
      "text/plain": "<IPython.core.display.Markdown object>",
      "text/markdown": "**Query example 4: text matching with geo ranking for schema organization...**"
     },
     "metadata": {},
     "output_type": "display_data"
    },
    {
     "data": {
      "text/plain": "<IPython.core.display.Markdown object>",
      "text/markdown": "**Query (url):**"
     },
     "metadata": {},
     "output_type": "display_data"
    },
    {
     "name": "stdout",
     "output_type": "stream",
     "text": [
      "http://localhost:8080/search/?yql=select+%2A+from+sources+organization+where+userQuery%28%29+and+geoLocation%28geocode%2C+39.59204%2C+-104.91942%2C+%2225+miles%22%29%3B&query=little+clinic&ranking=geo_ranking&type=any&presentation.timing=True&hits=10\n"
     ]
    },
    {
     "data": {
      "text/plain": "<IPython.core.display.Markdown object>",
      "text/markdown": "**Response time:**"
     },
     "metadata": {},
     "output_type": "display_data"
    },
    {
     "name": "stdout",
     "output_type": "stream",
     "text": [
      "28.28 ms\n"
     ]
    },
    {
     "data": {
      "text/plain": "<IPython.core.display.Markdown object>",
      "text/markdown": "**Search time:**"
     },
     "metadata": {},
     "output_type": "display_data"
    },
    {
     "name": "stdout",
     "output_type": "stream",
     "text": [
      "14.00 ms\n"
     ]
    },
    {
     "data": {
      "text/plain": "<IPython.core.display.Markdown object>",
      "text/markdown": "**Total records:**"
     },
     "metadata": {},
     "output_type": "display_data"
    },
    {
     "name": "stdout",
     "output_type": "stream",
     "text": [
      "4042\n"
     ]
    },
    {
     "data": {
      "text/plain": "<IPython.core.display.Markdown object>",
      "text/markdown": "**Total matched results:**"
     },
     "metadata": {},
     "output_type": "display_data"
    },
    {
     "name": "stdout",
     "output_type": "stream",
     "text": [
      "3\n"
     ]
    },
    {
     "data": {
      "text/plain": "<IPython.core.display.Markdown object>",
      "text/markdown": "**Top results:**"
     },
     "metadata": {},
     "output_type": "display_data"
    },
    {
     "name": "stdout",
     "output_type": "stream",
     "text": [
      "[\n",
      "  {\n",
      "    \"id\": \"id:organization:organization::3137775-271804731-T-2599261-H\",\n",
      "    \"relevance\": -7.397113747884665,\n",
      "    \"source\": \"provider_content\",\n",
      "    \"fields\": {\n",
      "      \"sddocname\": \"organization\",\n",
      "      \"documentid\": \"id:organization:organization::3137775-271804731-T-2599261-H\",\n",
      "      \"csp_contract\": {\n",
      "        \"918\": 99991231\n",
      "      },\n",
      "      \"unet_contract\": {\n",
      "        \"5440-ei-o\": 99991231,\n",
      "        \"5440-eg-o\": 99991231,\n",
      "        \"5440-eh-o\": 99991231,\n",
      "        \"5440-ee-o\": 99991231,\n",
      "        \"5440-ef-o\": 99991231,\n",
      "        \"5440-ec-o\": 99991231,\n",
      "        \"71002-r0-\": 99991231,\n",
      "        \"5440-ed-o\": 99991231,\n",
      "        \"5440-lg-o\": 99991231,\n",
      "        \"5440-ea-o\": 99991231,\n",
      "        \"5440-eb-o\": 99991231,\n",
      "        \"5440-li-o\": 99991231,\n",
      "        \"5440-lh-o\": 99991231,\n",
      "        \"5440-p3-o\": 99991231,\n",
      "        \"5440-c1-\": 99991231,\n",
      "        \"50-e0-\": 99991231,\n",
      "        \"5440-sg-o\": 99991231,\n",
      "        \"5440-sh-o\": 99991231,\n",
      "        \"5440-si-o\": 99991231,\n",
      "        \"5440-s2-o\": 99991231,\n",
      "        \"5440-s1-o\": 99991231,\n",
      "        \"5440-s0-o\": 99991231,\n",
      "        \"5440-s8-o\": 99991231,\n",
      "        \"5440-s7-o\": 99991231,\n",
      "        \"5440-a3-o\": 99991231,\n",
      "        \"5440-c0-o\": 99991231,\n",
      "        \"5440-c1-o\": 99991231,\n",
      "        \"5440-a2-o\": 99991231,\n",
      "        \"5440-s9-o\": 99991231,\n",
      "        \"5440-c2-o\": 99991231,\n",
      "        \"5440-a1-o\": 99991231\n",
      "      },\n",
      "      \"specialty_org\": {\n",
      "        \"013-uhn-p\": 99991231\n",
      "      },\n",
      "      \"contract_org\": {\n",
      "        \"uhn-s-p\": 99991231\n",
      "      },\n",
      "      \"national_taxonomy\": {\n",
      "        \"2084n0600x\": 99991231,\n",
      "        \"2084n0400x\": 99991231,\n",
      "        \"193200000x\": 99991231,\n",
      "        \"2084n0008x\": 99991231\n",
      "      },\n",
      "      \"enterprise_provider_id\": \"3137775\",\n",
      "      \"generated_key\": \"3137775-271804731-T-2599261-H\",\n",
      "      \"doc_expire_date\": 253402214400,\n",
      "      \"org_name\": \"frontier neuro & neuromuscular clinic\",\n",
      "      \"prov_type_code\": \"o\",\n",
      "      \"organization_type_code\": \"033\",\n",
      "      \"address_id\": 2599261,\n",
      "      \"address_line\": \"3464 s willow st ste 707\",\n",
      "      \"city_name\": \"denver\",\n",
      "      \"county_name\": \"denver\",\n",
      "      \"state_code\": \"co\",\n",
      "      \"zipcode\": \"80231\",\n",
      "      \"geocode\": {\n",
      "        \"lat\": 39.653895,\n",
      "        \"lng\": -104.88765\n",
      "      },\n",
      "      \"summaryfeatures\": {\n",
      "        \"bm25_address\": 0.0,\n",
      "        \"bm25_organization\": 2.864383294589051,\n",
      "        \"bm25_person\": 0.0,\n",
      "        \"distance_mile\": 4.596351966636843,\n",
      "        \"vespa.summaryFeatures.cached\": 0.0\n",
      "      }\n",
      "    }\n",
      "  },\n",
      "  {\n",
      "    \"id\": \"id:organization:organization::6786373-823753925-T-3462371-L\",\n",
      "    \"relevance\": -7.58187103674929,\n",
      "    \"source\": \"provider_content\",\n",
      "    \"fields\": {\n",
      "      \"sddocname\": \"organization\",\n",
      "      \"documentid\": \"id:organization:organization::6786373-823753925-T-3462371-L\",\n",
      "      \"unet_contract\": {\n",
      "        \"5440-r0-\": 99991231,\n",
      "        \"5440-ei-o\": 99991231,\n",
      "        \"5440-eg-o\": 99991231,\n",
      "        \"5440-eh-o\": 99991231,\n",
      "        \"5440-ee-o\": 99991231,\n",
      "        \"5440-ef-o\": 99991231,\n",
      "        \"5440-ec-o\": 99991231,\n",
      "        \"71002-r0-\": 99991231,\n",
      "        \"5440-ed-o\": 99991231,\n",
      "        \"5440-ea-o\": 99991231,\n",
      "        \"5440-eb-o\": 99991231,\n",
      "        \"8444444-aa-\": 99991231,\n",
      "        \"5440-s2-o\": 99991231,\n",
      "        \"5440-s1-o\": 99991231,\n",
      "        \"5440-s0-o\": 99991231,\n",
      "        \"5440-p3-o\": 99991231,\n",
      "        \"5440-c0-o\": 99991231,\n",
      "        \"5440-c1-o\": 99991231,\n",
      "        \"5440-c2-o\": 99991231\n",
      "      },\n",
      "      \"specialty_org\": {\n",
      "        \"050-uhn-p\": 99991231\n",
      "      },\n",
      "      \"contract_org\": {\n",
      "        \"uhn-s-s\": 99991231\n",
      "      },\n",
      "      \"national_taxonomy\": {\n",
      "        \"122300000x\": 99991231\n",
      "      },\n",
      "      \"enterprise_provider_id\": \"6786373\",\n",
      "      \"generated_key\": \"6786373-823753925-T-3462371-L\",\n",
      "      \"doc_expire_date\": 253402214400,\n",
      "      \"org_name\": \"apnea and breathing clinic\",\n",
      "      \"prov_type_code\": \"o\",\n",
      "      \"organization_type_code\": \"050\",\n",
      "      \"address_id\": 3462371,\n",
      "      \"address_line\": \"771 southpark dr\",\n",
      "      \"city_name\": \"littleton\",\n",
      "      \"county_name\": \"arapahoe\",\n",
      "      \"state_code\": \"co\",\n",
      "      \"zipcode\": \"80120\",\n",
      "      \"geocode\": {\n",
      "        \"lat\": 39.599898,\n",
      "        \"lng\": -105.007314\n",
      "      },\n",
      "      \"summaryfeatures\": {\n",
      "        \"bm25_address\": 0.0,\n",
      "        \"bm25_organization\": 2.864383294589051,\n",
      "        \"bm25_person\": 0.0,\n",
      "        \"distance_mile\": 4.711154787975944,\n",
      "        \"vespa.summaryFeatures.cached\": 0.0\n",
      "      },\n",
      "      \"cosmos_contract\": {\n",
      "        \"mnr-135\": 99991231,\n",
      "        \"pnx-662\": 99991231,\n",
      "        \"mnr-134\": 99991231,\n",
      "        \"mnr-112\": 99991231,\n",
      "        \"mnr-133\": 99991231,\n",
      "        \"mnr-132\": 99991231,\n",
      "        \"evc-7\": 99991231,\n",
      "        \"evc-47\": 99991231,\n",
      "        \"evc-684\": 99991231,\n",
      "        \"mnr-136\": 99991231\n",
      "      }\n",
      "    }\n",
      "  },\n",
      "  {\n",
      "    \"id\": \"id:organization:organization::2762037-841494091-T-2023399-D\",\n",
      "    \"relevance\": -14.064414489618752,\n",
      "    \"source\": \"provider_content\",\n",
      "    \"fields\": {\n",
      "      \"sddocname\": \"organization\",\n",
      "      \"documentid\": \"id:organization:organization::2762037-841494091-T-2023399-D\",\n",
      "      \"unet_contract\": {\n",
      "        \"5440-ei-o\": 99991231,\n",
      "        \"5440-eg-o\": 99991231,\n",
      "        \"5440-eh-o\": 99991231,\n",
      "        \"5440-ee-o\": 99991231,\n",
      "        \"5440-ef-o\": 99991231,\n",
      "        \"5440-ec-o\": 99991231,\n",
      "        \"5440-ed-o\": 99991231,\n",
      "        \"71002-r0-\": 99991231,\n",
      "        \"5440-ea-o\": 99991231,\n",
      "        \"5440-eb-o\": 99991231,\n",
      "        \"5440-p3-o\": 99991231,\n",
      "        \"5440-r0-\": 99991231,\n",
      "        \"5440-sg-o\": 99991231,\n",
      "        \"5440-sh-o\": 99991231,\n",
      "        \"5440-si-o\": 99991231,\n",
      "        \"5440-s2-o\": 99991231,\n",
      "        \"5440-s1-o\": 99991231,\n",
      "        \"5440-s0-o\": 99991231,\n",
      "        \"5440-s8-o\": 99991231,\n",
      "        \"5440-s7-o\": 99991231,\n",
      "        \"5440-c0-o\": 99991231,\n",
      "        \"5440-a3-o\": 99991231,\n",
      "        \"5440-s9-o\": 99991231,\n",
      "        \"5440-c1-o\": 99991231,\n",
      "        \"5440-a2-o\": 99991231,\n",
      "        \"5440-a1-o\": 99991231,\n",
      "        \"5440-c2-o\": 99991231\n",
      "      },\n",
      "      \"specialty_org\": {\n",
      "        \"015-uhn-p\": 99991231\n",
      "      },\n",
      "      \"contract_org\": {\n",
      "        \"uhn-p-p\": 99991231\n",
      "      },\n",
      "      \"national_taxonomy\": {\n",
      "        \"208c00000x\": 99991231\n",
      "      },\n",
      "      \"enterprise_provider_id\": \"2762037\",\n",
      "      \"generated_key\": \"2762037-841494091-T-2023399-D\",\n",
      "      \"doc_expire_date\": 253402214400,\n",
      "      \"org_name\": \"sun clinic\",\n",
      "      \"prov_type_code\": \"o\",\n",
      "      \"organization_type_code\": \"033\",\n",
      "      \"address_id\": 2023399,\n",
      "      \"address_line\": \"9397 crown crest blvd ste 201\",\n",
      "      \"city_name\": \"parker\",\n",
      "      \"county_name\": \"douglas\",\n",
      "      \"state_code\": \"co\",\n",
      "      \"zipcode\": \"80138\",\n",
      "      \"geocode\": {\n",
      "        \"lat\": 39.548402,\n",
      "        \"lng\": -104.76536\n",
      "      },\n",
      "      \"summaryfeatures\": {\n",
      "        \"bm25_address\": 0.0,\n",
      "        \"bm25_organization\": 3.6576122259093324,\n",
      "        \"bm25_person\": 0.0,\n",
      "        \"distance_mile\": 8.739219295828894,\n",
      "        \"vespa.summaryFeatures.cached\": 0.0\n",
      "      },\n",
      "      \"cosmos_contract\": {\n",
      "        \"mnr-135\": 99991231,\n",
      "        \"pnx-662\": 99991231,\n",
      "        \"mnr-112\": 99991231,\n",
      "        \"mnr-134\": 99991231,\n",
      "        \"mnr-133\": 99991231,\n",
      "        \"mnr-132\": 99991231,\n",
      "        \"evc-7\": 99991231,\n",
      "        \"evc-47\": 99991231,\n",
      "        \"evc-684\": 99991231,\n",
      "        \"mnr-136\": 99991231\n",
      "      }\n",
      "    }\n",
      "  }\n",
      "]\n"
     ]
    }
   ],
   "source": [
    "vespa_app = Vespa(url = settings.vespa_url_local) #connect to local host\n",
    "schema_name = \"organization\" #[\"organization\", \"practitioner\"]\n",
    "ranking_profile = \"geo_ranking\"\n",
    "return_fields = \"*\"\n",
    "query_term = 'little clinic'\n",
    "\n",
    "#geo search\n",
    "latitude = 39.592040\n",
    "longitude = -104.919420\n",
    "radius = 25\n",
    "\n",
    "printbold(\"Query example 4: text matching with geo ranking for schema {}...\".format(schema_name))\n",
    "query = {\n",
    "    'yql': 'select {} from sources {} where userQuery() and geoLocation(geocode, {}, {}, \"{} miles\");'.format(\n",
    "        return_fields, schema_name, latitude, longitude, radius),\n",
    "    'query': query_term,\n",
    "    'ranking': ranking_profile,\n",
    "    'type': 'any',\n",
    "    'presentation.timing': True,\n",
    "    'hits': settings.num_hit\n",
    "}\n",
    "\n",
    "#show query and results\n",
    "get_vespa_results(vespa_app, query)"
   ]
  },
  {
   "cell_type": "code",
   "execution_count": 16,
   "id": "c6f6e222",
   "metadata": {
    "scrolled": false,
    "pycharm": {
     "name": "#%%\n"
    }
   },
   "outputs": [
    {
     "data": {
      "text/plain": "<IPython.core.display.Markdown object>",
      "text/markdown": "**Query example 5: text matching + geo search + structured filters for schema...**"
     },
     "metadata": {},
     "output_type": "display_data"
    },
    {
     "data": {
      "text/plain": "<IPython.core.display.Markdown object>",
      "text/markdown": "**Query (url):**"
     },
     "metadata": {},
     "output_type": "display_data"
    },
    {
     "name": "stdout",
     "output_type": "stream",
     "text": [
      "http://localhost:8080/search/?yql=select+%2A+from+sources+organization+where+%28userQuery%28%29+and+specialty_org+contains+sameElement%28key+contains+%22015-uhn-p%22%2C++value+%3E+20230401%29+and+geoLocation%28geocode%2C+39.59204%2C+-104.91942%2C+%2225+miles%22%29%29%3B&query=clinic&ranking=org_geo_filter&type=any&presentation.timing=True&hits=10\n"
     ]
    },
    {
     "data": {
      "text/plain": "<IPython.core.display.Markdown object>",
      "text/markdown": "**Response time:**"
     },
     "metadata": {},
     "output_type": "display_data"
    },
    {
     "name": "stdout",
     "output_type": "stream",
     "text": [
      "62.58 ms\n"
     ]
    },
    {
     "data": {
      "text/plain": "<IPython.core.display.Markdown object>",
      "text/markdown": "**Search time:**"
     },
     "metadata": {},
     "output_type": "display_data"
    },
    {
     "name": "stdout",
     "output_type": "stream",
     "text": [
      "53.00 ms\n"
     ]
    },
    {
     "data": {
      "text/plain": "<IPython.core.display.Markdown object>",
      "text/markdown": "**Total records:**"
     },
     "metadata": {},
     "output_type": "display_data"
    },
    {
     "name": "stdout",
     "output_type": "stream",
     "text": [
      "4042\n"
     ]
    },
    {
     "data": {
      "text/plain": "<IPython.core.display.Markdown object>",
      "text/markdown": "**Total matched results:**"
     },
     "metadata": {},
     "output_type": "display_data"
    },
    {
     "name": "stdout",
     "output_type": "stream",
     "text": [
      "1\n"
     ]
    },
    {
     "data": {
      "text/plain": "<IPython.core.display.Markdown object>",
      "text/markdown": "**Top results:**"
     },
     "metadata": {},
     "output_type": "display_data"
    },
    {
     "name": "stdout",
     "output_type": "stream",
     "text": [
      "[\n",
      "  {\n",
      "    \"id\": \"id:organization:organization::2762037-841494091-T-2023399-D\",\n",
      "    \"relevance\": 7.315224451818665,\n",
      "    \"source\": \"provider_content\",\n",
      "    \"fields\": {\n",
      "      \"sddocname\": \"organization\",\n",
      "      \"documentid\": \"id:organization:organization::2762037-841494091-T-2023399-D\",\n",
      "      \"cosmos_contract\": {\n",
      "        \"mnr-135\": 99991231,\n",
      "        \"pnx-662\": 99991231,\n",
      "        \"mnr-112\": 99991231,\n",
      "        \"mnr-134\": 99991231,\n",
      "        \"mnr-133\": 99991231,\n",
      "        \"mnr-132\": 99991231,\n",
      "        \"evc-7\": 99991231,\n",
      "        \"evc-47\": 99991231,\n",
      "        \"evc-684\": 99991231,\n",
      "        \"mnr-136\": 99991231\n",
      "      },\n",
      "      \"unet_contract\": {\n",
      "        \"5440-ei-o\": 99991231,\n",
      "        \"5440-eg-o\": 99991231,\n",
      "        \"5440-eh-o\": 99991231,\n",
      "        \"5440-ee-o\": 99991231,\n",
      "        \"5440-ef-o\": 99991231,\n",
      "        \"5440-ec-o\": 99991231,\n",
      "        \"5440-ed-o\": 99991231,\n",
      "        \"71002-r0-\": 99991231,\n",
      "        \"5440-ea-o\": 99991231,\n",
      "        \"5440-eb-o\": 99991231,\n",
      "        \"5440-p3-o\": 99991231,\n",
      "        \"5440-r0-\": 99991231,\n",
      "        \"5440-sg-o\": 99991231,\n",
      "        \"5440-sh-o\": 99991231,\n",
      "        \"5440-si-o\": 99991231,\n",
      "        \"5440-s2-o\": 99991231,\n",
      "        \"5440-s1-o\": 99991231,\n",
      "        \"5440-s0-o\": 99991231,\n",
      "        \"5440-s8-o\": 99991231,\n",
      "        \"5440-s7-o\": 99991231,\n",
      "        \"5440-c0-o\": 99991231,\n",
      "        \"5440-a3-o\": 99991231,\n",
      "        \"5440-s9-o\": 99991231,\n",
      "        \"5440-c1-o\": 99991231,\n",
      "        \"5440-a2-o\": 99991231,\n",
      "        \"5440-a1-o\": 99991231,\n",
      "        \"5440-c2-o\": 99991231\n",
      "      },\n",
      "      \"specialty_org\": {\n",
      "        \"015-uhn-p\": 99991231\n",
      "      },\n",
      "      \"contract_org\": {\n",
      "        \"uhn-p-p\": 99991231\n",
      "      },\n",
      "      \"national_taxonomy\": {\n",
      "        \"208c00000x\": 99991231\n",
      "      },\n",
      "      \"enterprise_provider_id\": \"2762037\",\n",
      "      \"generated_key\": \"2762037-841494091-T-2023399-D\",\n",
      "      \"doc_expire_date\": 253402214400,\n",
      "      \"org_name\": \"sun clinic\",\n",
      "      \"prov_type_code\": \"o\",\n",
      "      \"organization_type_code\": \"033\",\n",
      "      \"address_id\": 2023399,\n",
      "      \"address_line\": \"9397 crown crest blvd ste 201\",\n",
      "      \"city_name\": \"parker\",\n",
      "      \"county_name\": \"douglas\",\n",
      "      \"state_code\": \"co\",\n",
      "      \"zipcode\": \"80138\",\n",
      "      \"geocode\": {\n",
      "        \"lat\": 39.548402,\n",
      "        \"lng\": -104.76536\n",
      "      },\n",
      "      \"summaryfeatures\": {\n",
      "        \"bm25_address\": 0.0,\n",
      "        \"bm25_organization\": 3.6576122259093324,\n",
      "        \"distance_mile\": 8.739219295828894,\n",
      "        \"vespa.summaryFeatures.cached\": 0.0\n",
      "      }\n",
      "    }\n",
      "  }\n",
      "]\n"
     ]
    }
   ],
   "source": [
    "vespa_app = Vespa(url = settings.vespa_url_local) #connect to local host\n",
    "schema_name = \"organization\" #[\"organization\", \"practitioner\"]\n",
    "ranking_profile = \"org_geo_filter\" if schema_name.startswith(\"o\") else \"prov_geo_filter\"\n",
    "return_fields = \"*\"\n",
    "query_term = 'clinic' #also try 'clinics'\n",
    "\n",
    "#geo search\n",
    "latitude = 39.592040\n",
    "longitude = -104.919420\n",
    "radius = 25\n",
    "\n",
    "#specialty filter\n",
    "specialty_org = '\"015-uhn-p\"'\n",
    "spl_expire_date = 20230401\n",
    "\n",
    "printbold(\"Query example 5: text matching + geo search + structured filters for schema...\".format(schema_name))\n",
    "query = {\n",
    "    'yql': 'select {} from sources {} where (userQuery() and specialty_org contains sameElement(key contains {},  value > {}) and geoLocation(geocode, {}, {}, \"{} miles\"));'.format(\n",
    "        return_fields, schema_name, specialty_org, spl_expire_date, latitude, longitude, radius),\n",
    "    'query': query_term,\n",
    "    'ranking': ranking_profile,\n",
    "    'type': 'any',\n",
    "    'presentation.timing': True,\n",
    "    'hits': settings.num_hit\n",
    "}\n",
    "\n",
    "#show query and results\n",
    "get_vespa_results(vespa_app, query)"
   ]
  },
  {
   "cell_type": "markdown",
   "id": "2b364624",
   "metadata": {
    "pycharm": {
     "name": "#%% md\n"
    }
   },
   "source": [
    "#### 4.1 Performance test\n",
    "\n",
    "Several evaluations will be performed to assess a search engine's capacity before production. In my opinion, there are at least two major evaluations:\n",
    "- <strong>Performance test</strong> that assesses a search engine's query latency (speed), and \n",
    "- <strong>Search evaluation</strong> that measures the quality of returned results (i.e., how relevant they are to a user query).\n",
    "\n",
    "Search evaluation usually relies on a set of gold-standard (or reference-standard) query-clicked url pairs derived from user search behavior data, while performance test only requires a set of queries either provided by clients or generated randomly from data. \n",
    "\n",
    "This section demonstrates a pipeline for performance test, including:\n",
    "- Generating [pseudo queries](../../query/) from data, and\n",
    "- Conducting performance test and creating a performance report. \n",
    "\n",
    "The pipeline is described [here](./evaluation/)."
   ]
  },
  {
   "cell_type": "code",
   "execution_count": 17,
   "id": "064872b3",
   "metadata": {
    "pycharm": {
     "name": "#%%\n"
    }
   },
   "outputs": [
    {
     "data": {
      "text/plain": "<IPython.core.display.Markdown object>",
      "text/markdown": "**Generate pseudo queries for schema organization...**"
     },
     "metadata": {},
     "output_type": "display_data"
    },
    {
     "name": "stdout",
     "output_type": "stream",
     "text": [
      "Select data points from file: ../../data/organization_sample_data.pkl\n",
      "done\n"
     ]
    },
    {
     "data": {
      "text/plain": "<IPython.core.display.Markdown object>",
      "text/markdown": "**Performance test for schema organization...**"
     },
     "metadata": {},
     "output_type": "display_data"
    },
    {
     "name": "stdout",
     "output_type": "stream",
     "text": [
      "Perform Vespa benchmark test (30 secs)...\n",
      "Starting clients...\n",
      "Stopping clients\n",
      "Clients stopped.\n",
      ".....\n",
      "Clients Joined.\n",
      "*** HTTP keep-alive statistics ***\n",
      "connection reuse count -- 37820\n",
      "***************** Benchmark Summary *****************\n",
      "clients:                       5\n",
      "ran for:                      30 seconds\n",
      "cycle time:                    0 ms\n",
      "lower response limit:          0 bytes\n",
      "skipped requests:              0\n",
      "failed requests:               0\n",
      "successful requests:       37725\n",
      "cycles not held:           37725\n",
      "minimum response time:      1.23 ms\n",
      "maximum response time:     21.13 ms\n",
      "average response time:      3.92 ms\n",
      "25   percentile:              3.00 ms\n",
      "50   percentile:              3.60 ms\n",
      "75   percentile:              4.50 ms\n",
      "90   percentile:              5.60 ms\n",
      "95   percentile:              6.50 ms\n",
      "98   percentile:              8.00 ms\n",
      "99   percentile:              9.30 ms\n",
      "99.5 percentile:             10.90 ms\n",
      "99.6 percentile:             11.40 ms\n",
      "99.7 percentile:             12.10 ms\n",
      "99.8 percentile:             12.80 ms\n",
      "99.9 percentile:             14.23 ms\n",
      "actual query rate:       1271.26 Q/s\n",
      "utilization:               99.78 %\n",
      "zero hit queries:            378\n",
      "zero hit percentage:        1.00 %\n",
      "http request status breakdown:\n",
      "       200 :    37825 \n",
      "\n",
      "done\n"
     ]
    }
   ],
   "source": [
    "vespa_app = Vespa(url = settings.vespa_url_local) #connect to local host\n",
    "settings.schema_name = \"organization\"#[\"organization\", \"practitioner\"]\n",
    "\n",
    "#generate pseudo queries\n",
    "printbold(\"Generate pseudo queries for schema {}...\".format(settings.schema_name))\n",
    "query_generation.main_process(settings)\n",
    "print('done')\n",
    "\n",
    "#performance test\n",
    "printbold(\"Performance test for schema {}...\".format(settings.schema_name))\n",
    "performance_test.main_process(settings)\n",
    "print('done')"
   ]
  },
  {
   "cell_type": "markdown",
   "id": "c54f538d",
   "metadata": {
    "pycharm": {
     "name": "#%% md\n"
    }
   },
   "source": [
    "### 5. Scaling up - cloud-based web service\n",
    "\n",
    "One solution to scale up is to migrate the service to the cloud (e.g., to an AWS Kubernetes cluster). Although you need additional steps for cluster configuration, the major steps (EDA, schema deployment, data processing, ingestion) are identical.  \n",
    "\n",
    "You can try the cloud-based search engine we developed for UHC provider search [here](https://dev.tools.search.optum.com/#/unified-provider). "
   ]
  },
  {
   "cell_type": "markdown",
   "id": "c3892f72",
   "metadata": {
    "pycharm": {
     "name": "#%% md\n"
    }
   },
   "source": [
    "### 6. Application management\n",
    "\n",
    "If the vespa application is no longer needed, you can run the following code to delete the container. Alternatively you can delete the container in the Docker desktop. "
   ]
  },
  {
   "cell_type": "code",
   "execution_count": 18,
   "id": "65d80192",
   "metadata": {
    "pycharm": {
     "name": "#%%\n"
    }
   },
   "outputs": [
    {
     "data": {
      "text/plain": "<IPython.core.display.Markdown object>",
      "text/markdown": "**Stop the vespa application and delete the container...**"
     },
     "metadata": {},
     "output_type": "display_data"
    },
    {
     "name": "stdout",
     "output_type": "stream",
     "text": [
      "done\n"
     ]
    }
   ],
   "source": [
    "printbold(\"Stop the vespa application and delete the container...\")\n",
    "if \"vespa_docker\" in locals() and vespa_docker:\n",
    "    vespa_docker.container.stop(timeout=15)\n",
    "    vespa_docker.container.remove()\n",
    "else:\n",
    "    print(\"Container variable not found. Please delete the container in Docker desktop.\")\n",
    "print(\"done\")"
   ]
  },
  {
   "cell_type": "code",
   "execution_count": null,
   "outputs": [],
   "source": [],
   "metadata": {
    "collapsed": false,
    "pycharm": {
     "name": "#%%\n"
    }
   }
  }
 ],
 "metadata": {
  "kernelspec": {
   "display_name": "Python 3 (ipykernel)",
   "language": "python",
   "name": "python3"
  },
  "language_info": {
   "codemirror_mode": {
    "name": "ipython",
    "version": 3
   },
   "file_extension": ".py",
   "mimetype": "text/x-python",
   "name": "python",
   "nbconvert_exporter": "python",
   "pygments_lexer": "ipython3",
   "version": "3.9.15"
  }
 },
 "nbformat": 4,
 "nbformat_minor": 5
}